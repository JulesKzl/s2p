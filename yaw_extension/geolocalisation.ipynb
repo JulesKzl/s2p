{
 "cells": [
  {
   "cell_type": "markdown",
   "metadata": {},
   "source": [
    "# Geolocalisation of Planet data"
   ]
  },
  {
   "cell_type": "code",
   "execution_count": 14,
   "metadata": {},
   "outputs": [
    {
     "name": "stdout",
     "output_type": "stream",
     "text": [
      "The autoreload extension is already loaded. To reload it, use:\n",
      "  %reload_ext autoreload\n"
     ]
    }
   ],
   "source": [
    "# Setup code for the notebook\n",
    "%matplotlib notebook\n",
    "# Autoreload external python modules\n",
    "# see http://stackoverflow.com/questions/1907993/autoreload-of-modules-in-ipython\n",
    "%load_ext autoreload\n",
    "%autoreload 2\n",
    "\n",
    "import matplotlib.pyplot as plt\n",
    "\n",
    "from ipytools import display_imshow\n",
    "from ipytools import readGTIFF\n",
    "from ipytools import writeGTIFF\n",
    "from ipytools import readGTIFFmeta\n",
    "from ipytools import display_gallery\n",
    "from ipytools import display_RSO\n",
    "from ipytools import overlaymap\n",
    "\n",
    "from glob import glob\n",
    "from tqdm import tqdm\n",
    "import json\n",
    "import numpy as np\n",
    "\n",
    "# RPC class\n",
    "from rpc_model import RPCModel\n",
    "\n",
    "# Tools to handle S03\n",
    "from tools import s03_handler\n",
    "from tools import data_handler\n",
    "from tools import get_image_longlat_polygon\n",
    "from tools import reprojection\n",
    "from tools import geolocalisation"
   ]
  },
  {
   "cell_type": "code",
   "execution_count": 2,
   "metadata": {},
   "outputs": [],
   "source": [
    "lst_tif, area, triplets = s03_handler()"
   ]
  },
  {
   "cell_type": "code",
   "execution_count": 3,
   "metadata": {},
   "outputs": [
    {
     "data": {
      "text/plain": [
       "['../data/s03_20161003T161231Z/panchromatic/s03_20161003T161231Z_pan_d2_0008.tif',\n",
       " '../data/s03_20161003T161231Z/panchromatic/s03_20161003T161231Z_pan_d1_0014.tif',\n",
       " '../data/s03_20161003T161231Z/panchromatic/s03_20161003T161231Z_pan_d3_0014.tif',\n",
       " '../data/s03_20161003T161231Z/panchromatic/s03_20161003T161231Z_pan_d2_0002.tif',\n",
       " '../data/s03_20161003T161231Z/panchromatic/s03_20161003T161231Z_pan_d2_0018.tif',\n",
       " '../data/s03_20161003T161231Z/panchromatic/s03_20161003T161231Z_pan_d2_0010.tif',\n",
       " '../data/s03_20161003T161231Z/panchromatic/s03_20161003T161231Z_pan_d1_0002.tif',\n",
       " '../data/s03_20161003T161231Z/panchromatic/s03_20161003T161231Z_pan_d1_0005.tif',\n",
       " '../data/s03_20161003T161231Z/panchromatic/s03_20161003T161231Z_pan_d1_0017.tif',\n",
       " '../data/s03_20161003T161231Z/panchromatic/s03_20161003T161231Z_pan_d2_0011.tif',\n",
       " '../data/s03_20161003T161231Z/panchromatic/s03_20161003T161231Z_pan_d2_0004.tif',\n",
       " '../data/s03_20161003T161231Z/panchromatic/s03_20161003T161231Z_pan_d1_0004.tif',\n",
       " '../data/s03_20161003T161231Z/panchromatic/s03_20161003T161231Z_pan_d3_0010.tif',\n",
       " '../data/s03_20161003T161231Z/panchromatic/s03_20161003T161231Z_pan_d3_0016.tif',\n",
       " '../data/s03_20161003T161231Z/panchromatic/s03_20161003T161231Z_pan_d2_0007.tif',\n",
       " '../data/s03_20161003T161231Z/panchromatic/s03_20161003T161231Z_pan_d1_0010.tif',\n",
       " '../data/s03_20161003T161231Z/panchromatic/s03_20161003T161231Z_pan_d1_0015.tif',\n",
       " '../data/s03_20161003T161231Z/panchromatic/s03_20161003T161231Z_pan_d2_0006.tif',\n",
       " '../data/s03_20161003T161231Z/panchromatic/s03_20161003T161231Z_pan_d3_0006.tif',\n",
       " '../data/s03_20161003T161231Z/panchromatic/s03_20161003T161231Z_pan_d1_0011.tif',\n",
       " '../data/s03_20161003T161231Z/panchromatic/s03_20161003T161231Z_pan_d3_0008.tif',\n",
       " '../data/s03_20161003T161231Z/panchromatic/s03_20161003T161231Z_pan_d2_0012.tif',\n",
       " '../data/s03_20161003T161231Z/panchromatic/s03_20161003T161231Z_pan_d3_0017.tif',\n",
       " '../data/s03_20161003T161231Z/panchromatic/s03_20161003T161231Z_pan_d3_0009.tif',\n",
       " '../data/s03_20161003T161231Z/panchromatic/s03_20161003T161231Z_pan_d1_0003.tif',\n",
       " '../data/s03_20161003T161231Z/panchromatic/s03_20161003T161231Z_pan_d1_0018.tif',\n",
       " '../data/s03_20161003T161231Z/panchromatic/s03_20161003T161231Z_pan_d3_0015.tif',\n",
       " '../data/s03_20161003T161231Z/panchromatic/s03_20161003T161231Z_pan_d1_0001.tif',\n",
       " '../data/s03_20161003T161231Z/panchromatic/s03_20161003T161231Z_pan_d2_0005.tif',\n",
       " '../data/s03_20161003T161231Z/panchromatic/s03_20161003T161231Z_pan_d2_0017.tif',\n",
       " '../data/s03_20161003T161231Z/panchromatic/s03_20161003T161231Z_pan_d3_0012.tif',\n",
       " '../data/s03_20161003T161231Z/panchromatic/s03_20161003T161231Z_pan_d3_0007.tif',\n",
       " '../data/s03_20161003T161231Z/panchromatic/s03_20161003T161231Z_pan_d1_0007.tif',\n",
       " '../data/s03_20161003T161231Z/panchromatic/s03_20161003T161231Z_pan_d2_0001.tif',\n",
       " '../data/s03_20161003T161231Z/panchromatic/s03_20161003T161231Z_pan_d3_0005.tif',\n",
       " '../data/s03_20161003T161231Z/panchromatic/s03_20161003T161231Z_pan_d1_0016.tif',\n",
       " '../data/s03_20161003T161231Z/panchromatic/s03_20161003T161231Z_pan_d1_0009.tif',\n",
       " '../data/s03_20161003T161231Z/panchromatic/s03_20161003T161231Z_pan_d3_0013.tif',\n",
       " '../data/s03_20161003T161231Z/panchromatic/s03_20161003T161231Z_pan_d2_0016.tif',\n",
       " '../data/s03_20161003T161231Z/panchromatic/s03_20161003T161231Z_pan_d3_0002.tif',\n",
       " '../data/s03_20161003T161231Z/panchromatic/s03_20161003T161231Z_pan_d3_0003.tif',\n",
       " '../data/s03_20161003T161231Z/panchromatic/s03_20161003T161231Z_pan_d2_0003.tif',\n",
       " '../data/s03_20161003T161231Z/panchromatic/s03_20161003T161231Z_pan_d3_0011.tif',\n",
       " '../data/s03_20161003T161231Z/panchromatic/s03_20161003T161231Z_pan_d1_0012.tif',\n",
       " '../data/s03_20161003T161231Z/panchromatic/s03_20161003T161231Z_pan_d3_0004.tif',\n",
       " '../data/s03_20161003T161231Z/panchromatic/s03_20161003T161231Z_pan_d3_0001.tif',\n",
       " '../data/s03_20161003T161231Z/panchromatic/s03_20161003T161231Z_pan_d2_0013.tif',\n",
       " '../data/s03_20161003T161231Z/panchromatic/s03_20161003T161231Z_pan_d3_0018.tif',\n",
       " '../data/s03_20161003T161231Z/panchromatic/s03_20161003T161231Z_pan_d2_0014.tif',\n",
       " '../data/s03_20161003T161231Z/panchromatic/s03_20161003T161231Z_pan_d1_0008.tif',\n",
       " '../data/s03_20161003T161231Z/panchromatic/s03_20161003T161231Z_pan_d2_0015.tif',\n",
       " '../data/s03_20161003T161231Z/panchromatic/s03_20161003T161231Z_pan_d2_0009.tif',\n",
       " '../data/s03_20161003T161231Z/panchromatic/s03_20161003T161231Z_pan_d1_0006.tif',\n",
       " '../data/s03_20161003T161231Z/panchromatic/s03_20161003T161231Z_pan_d1_0013.tif',\n",
       " '../data/s03_20161003T161148Z/panchromatic/s03_20161003T161148Z_pan_d3_0008.tif',\n",
       " '../data/s03_20161003T161148Z/panchromatic/s03_20161003T161148Z_pan_d2_0003.tif',\n",
       " '../data/s03_20161003T161148Z/panchromatic/s03_20161003T161148Z_pan_d2_0009.tif',\n",
       " '../data/s03_20161003T161148Z/panchromatic/s03_20161003T161148Z_pan_d2_0008.tif',\n",
       " '../data/s03_20161003T161148Z/panchromatic/s03_20161003T161148Z_pan_d1_0013.tif',\n",
       " '../data/s03_20161003T161148Z/panchromatic/s03_20161003T161148Z_pan_d3_0005.tif',\n",
       " '../data/s03_20161003T161148Z/panchromatic/s03_20161003T161148Z_pan_d1_0001.tif',\n",
       " '../data/s03_20161003T161148Z/panchromatic/s03_20161003T161148Z_pan_d3_0019.tif',\n",
       " '../data/s03_20161003T161148Z/panchromatic/s03_20161003T161148Z_pan_d3_0001.tif',\n",
       " '../data/s03_20161003T161148Z/panchromatic/s03_20161003T161148Z_pan_d2_0010.tif',\n",
       " '../data/s03_20161003T161148Z/panchromatic/s03_20161003T161148Z_pan_d3_0006.tif',\n",
       " '../data/s03_20161003T161148Z/panchromatic/s03_20161003T161148Z_pan_d3_0002.tif',\n",
       " '../data/s03_20161003T161148Z/panchromatic/s03_20161003T161148Z_pan_d2_0004.tif',\n",
       " '../data/s03_20161003T161148Z/panchromatic/s03_20161003T161148Z_pan_d3_0007.tif',\n",
       " '../data/s03_20161003T161148Z/panchromatic/s03_20161003T161148Z_pan_d2_0019.tif',\n",
       " '../data/s03_20161003T161148Z/panchromatic/s03_20161003T161148Z_pan_d3_0015.tif',\n",
       " '../data/s03_20161003T161148Z/panchromatic/s03_20161003T161148Z_pan_d1_0004.tif',\n",
       " '../data/s03_20161003T161148Z/panchromatic/s03_20161003T161148Z_pan_d1_0021.tif',\n",
       " '../data/s03_20161003T161148Z/panchromatic/s03_20161003T161148Z_pan_d2_0006.tif',\n",
       " '../data/s03_20161003T161148Z/panchromatic/s03_20161003T161148Z_pan_d3_0014.tif',\n",
       " '../data/s03_20161003T161148Z/panchromatic/s03_20161003T161148Z_pan_d1_0012.tif',\n",
       " '../data/s03_20161003T161148Z/panchromatic/s03_20161003T161148Z_pan_d1_0008.tif',\n",
       " '../data/s03_20161003T161148Z/panchromatic/s03_20161003T161148Z_pan_d1_0017.tif',\n",
       " '../data/s03_20161003T161148Z/panchromatic/s03_20161003T161148Z_pan_d2_0007.tif',\n",
       " '../data/s03_20161003T161148Z/panchromatic/s03_20161003T161148Z_pan_d3_0010.tif',\n",
       " '../data/s03_20161003T161148Z/panchromatic/s03_20161003T161148Z_pan_d2_0013.tif',\n",
       " '../data/s03_20161003T161148Z/panchromatic/s03_20161003T161148Z_pan_d1_0011.tif',\n",
       " '../data/s03_20161003T161148Z/panchromatic/s03_20161003T161148Z_pan_d3_0004.tif',\n",
       " '../data/s03_20161003T161148Z/panchromatic/s03_20161003T161148Z_pan_d1_0015.tif',\n",
       " '../data/s03_20161003T161148Z/panchromatic/s03_20161003T161148Z_pan_d1_0003.tif',\n",
       " '../data/s03_20161003T161148Z/panchromatic/s03_20161003T161148Z_pan_d3_0013.tif',\n",
       " '../data/s03_20161003T161148Z/panchromatic/s03_20161003T161148Z_pan_d1_0020.tif',\n",
       " '../data/s03_20161003T161148Z/panchromatic/s03_20161003T161148Z_pan_d1_0006.tif',\n",
       " '../data/s03_20161003T161148Z/panchromatic/s03_20161003T161148Z_pan_d1_0005.tif',\n",
       " '../data/s03_20161003T161148Z/panchromatic/s03_20161003T161148Z_pan_d1_0014.tif',\n",
       " '../data/s03_20161003T161148Z/panchromatic/s03_20161003T161148Z_pan_d2_0021.tif',\n",
       " '../data/s03_20161003T161148Z/panchromatic/s03_20161003T161148Z_pan_d3_0017.tif',\n",
       " '../data/s03_20161003T161148Z/panchromatic/s03_20161003T161148Z_pan_d2_0012.tif',\n",
       " '../data/s03_20161003T161148Z/panchromatic/s03_20161003T161148Z_pan_d3_0003.tif',\n",
       " '../data/s03_20161003T161148Z/panchromatic/s03_20161003T161148Z_pan_d2_0020.tif',\n",
       " '../data/s03_20161003T161148Z/panchromatic/s03_20161003T161148Z_pan_d1_0018.tif',\n",
       " '../data/s03_20161003T161148Z/panchromatic/s03_20161003T161148Z_pan_d2_0011.tif',\n",
       " '../data/s03_20161003T161148Z/panchromatic/s03_20161003T161148Z_pan_d2_0017.tif',\n",
       " '../data/s03_20161003T161148Z/panchromatic/s03_20161003T161148Z_pan_d3_0009.tif',\n",
       " '../data/s03_20161003T161148Z/panchromatic/s03_20161003T161148Z_pan_d2_0016.tif',\n",
       " '../data/s03_20161003T161148Z/panchromatic/s03_20161003T161148Z_pan_d1_0010.tif',\n",
       " '../data/s03_20161003T161148Z/panchromatic/s03_20161003T161148Z_pan_d1_0002.tif',\n",
       " '../data/s03_20161003T161148Z/panchromatic/s03_20161003T161148Z_pan_d1_0016.tif',\n",
       " '../data/s03_20161003T161148Z/panchromatic/s03_20161003T161148Z_pan_d3_0020.tif',\n",
       " '../data/s03_20161003T161148Z/panchromatic/s03_20161003T161148Z_pan_d3_0018.tif',\n",
       " '../data/s03_20161003T161148Z/panchromatic/s03_20161003T161148Z_pan_d3_0016.tif',\n",
       " '../data/s03_20161003T161148Z/panchromatic/s03_20161003T161148Z_pan_d3_0011.tif',\n",
       " '../data/s03_20161003T161148Z/panchromatic/s03_20161003T161148Z_pan_d2_0014.tif',\n",
       " '../data/s03_20161003T161148Z/panchromatic/s03_20161003T161148Z_pan_d1_0019.tif',\n",
       " '../data/s03_20161003T161148Z/panchromatic/s03_20161003T161148Z_pan_d1_0009.tif',\n",
       " '../data/s03_20161003T161148Z/panchromatic/s03_20161003T161148Z_pan_d2_0015.tif',\n",
       " '../data/s03_20161003T161148Z/panchromatic/s03_20161003T161148Z_pan_d3_0012.tif',\n",
       " '../data/s03_20161003T161148Z/panchromatic/s03_20161003T161148Z_pan_d2_0005.tif',\n",
       " '../data/s03_20161003T161148Z/panchromatic/s03_20161003T161148Z_pan_d1_0007.tif',\n",
       " '../data/s03_20161003T161148Z/panchromatic/s03_20161003T161148Z_pan_d2_0001.tif',\n",
       " '../data/s03_20161003T161148Z/panchromatic/s03_20161003T161148Z_pan_d2_0002.tif',\n",
       " '../data/s03_20161003T161148Z/panchromatic/s03_20161003T161148Z_pan_d3_0021.tif',\n",
       " '../data/s03_20161003T161148Z/panchromatic/s03_20161003T161148Z_pan_d2_0018.tif',\n",
       " '../data/s03_20161003T161107Z/panchromatic/s03_20161003T161107Z_pan_d1_0010.tif',\n",
       " '../data/s03_20161003T161107Z/panchromatic/s03_20161003T161107Z_pan_d3_0017.tif',\n",
       " '../data/s03_20161003T161107Z/panchromatic/s03_20161003T161107Z_pan_d3_0006.tif',\n",
       " '../data/s03_20161003T161107Z/panchromatic/s03_20161003T161107Z_pan_d3_0009.tif',\n",
       " '../data/s03_20161003T161107Z/panchromatic/s03_20161003T161107Z_pan_d1_0015.tif',\n",
       " '../data/s03_20161003T161107Z/panchromatic/s03_20161003T161107Z_pan_d3_0011.tif',\n",
       " '../data/s03_20161003T161107Z/panchromatic/s03_20161003T161107Z_pan_d2_0011.tif',\n",
       " '../data/s03_20161003T161107Z/panchromatic/s03_20161003T161107Z_pan_d1_0018.tif',\n",
       " '../data/s03_20161003T161107Z/panchromatic/s03_20161003T161107Z_pan_d3_0010.tif',\n",
       " '../data/s03_20161003T161107Z/panchromatic/s03_20161003T161107Z_pan_d3_0005.tif',\n",
       " '../data/s03_20161003T161107Z/panchromatic/s03_20161003T161107Z_pan_d1_0009.tif',\n",
       " '../data/s03_20161003T161107Z/panchromatic/s03_20161003T161107Z_pan_d3_0008.tif',\n",
       " '../data/s03_20161003T161107Z/panchromatic/s03_20161003T161107Z_pan_d2_0007.tif',\n",
       " '../data/s03_20161003T161107Z/panchromatic/s03_20161003T161107Z_pan_d3_0003.tif',\n",
       " '../data/s03_20161003T161107Z/panchromatic/s03_20161003T161107Z_pan_d3_0016.tif',\n",
       " '../data/s03_20161003T161107Z/panchromatic/s03_20161003T161107Z_pan_d2_0013.tif',\n",
       " '../data/s03_20161003T161107Z/panchromatic/s03_20161003T161107Z_pan_d1_0008.tif',\n",
       " '../data/s03_20161003T161107Z/panchromatic/s03_20161003T161107Z_pan_d2_0017.tif',\n",
       " '../data/s03_20161003T161107Z/panchromatic/s03_20161003T161107Z_pan_d2_0002.tif',\n",
       " '../data/s03_20161003T161107Z/panchromatic/s03_20161003T161107Z_pan_d3_0013.tif',\n",
       " '../data/s03_20161003T161107Z/panchromatic/s03_20161003T161107Z_pan_d3_0007.tif',\n",
       " '../data/s03_20161003T161107Z/panchromatic/s03_20161003T161107Z_pan_d3_0004.tif',\n",
       " '../data/s03_20161003T161107Z/panchromatic/s03_20161003T161107Z_pan_d2_0014.tif',\n",
       " '../data/s03_20161003T161107Z/panchromatic/s03_20161003T161107Z_pan_d1_0004.tif',\n",
       " '../data/s03_20161003T161107Z/panchromatic/s03_20161003T161107Z_pan_d2_0012.tif',\n",
       " '../data/s03_20161003T161107Z/panchromatic/s03_20161003T161107Z_pan_d1_0005.tif',\n",
       " '../data/s03_20161003T161107Z/panchromatic/s03_20161003T161107Z_pan_d2_0003.tif',\n",
       " '../data/s03_20161003T161107Z/panchromatic/s03_20161003T161107Z_pan_d1_0007.tif',\n",
       " '../data/s03_20161003T161107Z/panchromatic/s03_20161003T161107Z_pan_d2_0015.tif',\n",
       " '../data/s03_20161003T161107Z/panchromatic/s03_20161003T161107Z_pan_d2_0004.tif',\n",
       " '../data/s03_20161003T161107Z/panchromatic/s03_20161003T161107Z_pan_d1_0001.tif',\n",
       " '../data/s03_20161003T161107Z/panchromatic/s03_20161003T161107Z_pan_d2_0018.tif',\n",
       " '../data/s03_20161003T161107Z/panchromatic/s03_20161003T161107Z_pan_d1_0017.tif',\n",
       " '../data/s03_20161003T161107Z/panchromatic/s03_20161003T161107Z_pan_d2_0009.tif',\n",
       " '../data/s03_20161003T161107Z/panchromatic/s03_20161003T161107Z_pan_d2_0006.tif',\n",
       " '../data/s03_20161003T161107Z/panchromatic/s03_20161003T161107Z_pan_d1_0002.tif',\n",
       " '../data/s03_20161003T161107Z/panchromatic/s03_20161003T161107Z_pan_d2_0008.tif',\n",
       " '../data/s03_20161003T161107Z/panchromatic/s03_20161003T161107Z_pan_d3_0001.tif',\n",
       " '../data/s03_20161003T161107Z/panchromatic/s03_20161003T161107Z_pan_d1_0012.tif',\n",
       " '../data/s03_20161003T161107Z/panchromatic/s03_20161003T161107Z_pan_d3_0018.tif',\n",
       " '../data/s03_20161003T161107Z/panchromatic/s03_20161003T161107Z_pan_d1_0011.tif',\n",
       " '../data/s03_20161003T161107Z/panchromatic/s03_20161003T161107Z_pan_d2_0010.tif',\n",
       " '../data/s03_20161003T161107Z/panchromatic/s03_20161003T161107Z_pan_d1_0016.tif',\n",
       " '../data/s03_20161003T161107Z/panchromatic/s03_20161003T161107Z_pan_d1_0003.tif',\n",
       " '../data/s03_20161003T161107Z/panchromatic/s03_20161003T161107Z_pan_d2_0005.tif',\n",
       " '../data/s03_20161003T161107Z/panchromatic/s03_20161003T161107Z_pan_d3_0012.tif',\n",
       " '../data/s03_20161003T161107Z/panchromatic/s03_20161003T161107Z_pan_d3_0002.tif',\n",
       " '../data/s03_20161003T161107Z/panchromatic/s03_20161003T161107Z_pan_d1_0014.tif',\n",
       " '../data/s03_20161003T161107Z/panchromatic/s03_20161003T161107Z_pan_d2_0001.tif',\n",
       " '../data/s03_20161003T161107Z/panchromatic/s03_20161003T161107Z_pan_d1_0006.tif',\n",
       " '../data/s03_20161003T161107Z/panchromatic/s03_20161003T161107Z_pan_d1_0013.tif',\n",
       " '../data/s03_20161003T161107Z/panchromatic/s03_20161003T161107Z_pan_d2_0016.tif',\n",
       " '../data/s03_20161003T161107Z/panchromatic/s03_20161003T161107Z_pan_d3_0014.tif',\n",
       " '../data/s03_20161003T161107Z/panchromatic/s03_20161003T161107Z_pan_d3_0015.tif']"
      ]
     },
     "execution_count": 3,
     "metadata": {},
     "output_type": "execute_result"
    }
   ],
   "source": [
    "lst_tif"
   ]
  },
  {
   "cell_type": "code",
   "execution_count": 4,
   "metadata": {},
   "outputs": [
    {
     "data": {
      "text/plain": [
       "{'d1': {1: {'1Z': '../data/s03_20161003T161231Z/panchromatic/s03_20161003T161231Z_pan_d1_0001.tif',\n",
       "   '7Z': '../data/s03_20161003T161107Z/panchromatic/s03_20161003T161107Z_pan_d1_0001.tif',\n",
       "   '8Z': '../data/s03_20161003T161148Z/panchromatic/s03_20161003T161148Z_pan_d1_0001.tif'},\n",
       "  2: {'1Z': '../data/s03_20161003T161231Z/panchromatic/s03_20161003T161231Z_pan_d1_0002.tif',\n",
       "   '7Z': '../data/s03_20161003T161107Z/panchromatic/s03_20161003T161107Z_pan_d1_0002.tif',\n",
       "   '8Z': '../data/s03_20161003T161148Z/panchromatic/s03_20161003T161148Z_pan_d1_0002.tif'},\n",
       "  3: {'1Z': '../data/s03_20161003T161231Z/panchromatic/s03_20161003T161231Z_pan_d1_0003.tif',\n",
       "   '7Z': '../data/s03_20161003T161107Z/panchromatic/s03_20161003T161107Z_pan_d1_0003.tif',\n",
       "   '8Z': '../data/s03_20161003T161148Z/panchromatic/s03_20161003T161148Z_pan_d1_0003.tif'},\n",
       "  4: {'1Z': '../data/s03_20161003T161231Z/panchromatic/s03_20161003T161231Z_pan_d1_0004.tif',\n",
       "   '7Z': '../data/s03_20161003T161107Z/panchromatic/s03_20161003T161107Z_pan_d1_0004.tif',\n",
       "   '8Z': '../data/s03_20161003T161148Z/panchromatic/s03_20161003T161148Z_pan_d1_0004.tif'},\n",
       "  5: {'1Z': '../data/s03_20161003T161231Z/panchromatic/s03_20161003T161231Z_pan_d1_0005.tif',\n",
       "   '7Z': '../data/s03_20161003T161107Z/panchromatic/s03_20161003T161107Z_pan_d1_0005.tif',\n",
       "   '8Z': '../data/s03_20161003T161148Z/panchromatic/s03_20161003T161148Z_pan_d1_0005.tif'},\n",
       "  6: {'1Z': '../data/s03_20161003T161231Z/panchromatic/s03_20161003T161231Z_pan_d1_0006.tif',\n",
       "   '7Z': '../data/s03_20161003T161107Z/panchromatic/s03_20161003T161107Z_pan_d1_0006.tif',\n",
       "   '8Z': '../data/s03_20161003T161148Z/panchromatic/s03_20161003T161148Z_pan_d1_0006.tif'},\n",
       "  7: {'1Z': '../data/s03_20161003T161231Z/panchromatic/s03_20161003T161231Z_pan_d1_0007.tif',\n",
       "   '7Z': '../data/s03_20161003T161107Z/panchromatic/s03_20161003T161107Z_pan_d1_0007.tif',\n",
       "   '8Z': '../data/s03_20161003T161148Z/panchromatic/s03_20161003T161148Z_pan_d1_0007.tif'},\n",
       "  8: {'1Z': '../data/s03_20161003T161231Z/panchromatic/s03_20161003T161231Z_pan_d1_0008.tif',\n",
       "   '7Z': '../data/s03_20161003T161107Z/panchromatic/s03_20161003T161107Z_pan_d1_0008.tif',\n",
       "   '8Z': '../data/s03_20161003T161148Z/panchromatic/s03_20161003T161148Z_pan_d1_0008.tif'},\n",
       "  9: {'1Z': '../data/s03_20161003T161231Z/panchromatic/s03_20161003T161231Z_pan_d1_0009.tif',\n",
       "   '7Z': '../data/s03_20161003T161107Z/panchromatic/s03_20161003T161107Z_pan_d1_0009.tif',\n",
       "   '8Z': '../data/s03_20161003T161148Z/panchromatic/s03_20161003T161148Z_pan_d1_0009.tif'},\n",
       "  10: {'1Z': '../data/s03_20161003T161231Z/panchromatic/s03_20161003T161231Z_pan_d1_0010.tif',\n",
       "   '7Z': '../data/s03_20161003T161107Z/panchromatic/s03_20161003T161107Z_pan_d1_0010.tif',\n",
       "   '8Z': '../data/s03_20161003T161148Z/panchromatic/s03_20161003T161148Z_pan_d1_0010.tif'},\n",
       "  11: {'1Z': '../data/s03_20161003T161231Z/panchromatic/s03_20161003T161231Z_pan_d1_0011.tif',\n",
       "   '7Z': '../data/s03_20161003T161107Z/panchromatic/s03_20161003T161107Z_pan_d1_0011.tif',\n",
       "   '8Z': '../data/s03_20161003T161148Z/panchromatic/s03_20161003T161148Z_pan_d1_0011.tif'},\n",
       "  12: {'1Z': '../data/s03_20161003T161231Z/panchromatic/s03_20161003T161231Z_pan_d1_0012.tif',\n",
       "   '7Z': '../data/s03_20161003T161107Z/panchromatic/s03_20161003T161107Z_pan_d1_0012.tif',\n",
       "   '8Z': '../data/s03_20161003T161148Z/panchromatic/s03_20161003T161148Z_pan_d1_0012.tif'},\n",
       "  13: {'1Z': '../data/s03_20161003T161231Z/panchromatic/s03_20161003T161231Z_pan_d1_0013.tif',\n",
       "   '7Z': '../data/s03_20161003T161107Z/panchromatic/s03_20161003T161107Z_pan_d1_0013.tif',\n",
       "   '8Z': '../data/s03_20161003T161148Z/panchromatic/s03_20161003T161148Z_pan_d1_0013.tif'},\n",
       "  14: {'1Z': '../data/s03_20161003T161231Z/panchromatic/s03_20161003T161231Z_pan_d1_0014.tif',\n",
       "   '7Z': '../data/s03_20161003T161107Z/panchromatic/s03_20161003T161107Z_pan_d1_0014.tif',\n",
       "   '8Z': '../data/s03_20161003T161148Z/panchromatic/s03_20161003T161148Z_pan_d1_0014.tif'},\n",
       "  15: {'1Z': '../data/s03_20161003T161231Z/panchromatic/s03_20161003T161231Z_pan_d1_0015.tif',\n",
       "   '7Z': '../data/s03_20161003T161107Z/panchromatic/s03_20161003T161107Z_pan_d1_0015.tif',\n",
       "   '8Z': '../data/s03_20161003T161148Z/panchromatic/s03_20161003T161148Z_pan_d1_0015.tif'},\n",
       "  16: {'1Z': '../data/s03_20161003T161231Z/panchromatic/s03_20161003T161231Z_pan_d1_0016.tif',\n",
       "   '7Z': '../data/s03_20161003T161107Z/panchromatic/s03_20161003T161107Z_pan_d1_0016.tif',\n",
       "   '8Z': '../data/s03_20161003T161148Z/panchromatic/s03_20161003T161148Z_pan_d1_0016.tif'},\n",
       "  17: {'1Z': '../data/s03_20161003T161231Z/panchromatic/s03_20161003T161231Z_pan_d1_0017.tif',\n",
       "   '7Z': '../data/s03_20161003T161107Z/panchromatic/s03_20161003T161107Z_pan_d1_0017.tif',\n",
       "   '8Z': '../data/s03_20161003T161148Z/panchromatic/s03_20161003T161148Z_pan_d1_0017.tif'},\n",
       "  18: {'1Z': '../data/s03_20161003T161231Z/panchromatic/s03_20161003T161231Z_pan_d1_0018.tif',\n",
       "   '7Z': '../data/s03_20161003T161107Z/panchromatic/s03_20161003T161107Z_pan_d1_0018.tif',\n",
       "   '8Z': '../data/s03_20161003T161148Z/panchromatic/s03_20161003T161148Z_pan_d1_0018.tif'},\n",
       "  19: {'8Z': '../data/s03_20161003T161148Z/panchromatic/s03_20161003T161148Z_pan_d1_0019.tif'},\n",
       "  20: {'8Z': '../data/s03_20161003T161148Z/panchromatic/s03_20161003T161148Z_pan_d1_0020.tif'},\n",
       "  21: {'8Z': '../data/s03_20161003T161148Z/panchromatic/s03_20161003T161148Z_pan_d1_0021.tif'}},\n",
       " 'd2': {1: {'1Z': '../data/s03_20161003T161231Z/panchromatic/s03_20161003T161231Z_pan_d2_0001.tif',\n",
       "   '7Z': '../data/s03_20161003T161107Z/panchromatic/s03_20161003T161107Z_pan_d2_0001.tif',\n",
       "   '8Z': '../data/s03_20161003T161148Z/panchromatic/s03_20161003T161148Z_pan_d2_0001.tif'},\n",
       "  2: {'1Z': '../data/s03_20161003T161231Z/panchromatic/s03_20161003T161231Z_pan_d2_0002.tif',\n",
       "   '7Z': '../data/s03_20161003T161107Z/panchromatic/s03_20161003T161107Z_pan_d2_0002.tif',\n",
       "   '8Z': '../data/s03_20161003T161148Z/panchromatic/s03_20161003T161148Z_pan_d2_0002.tif'},\n",
       "  3: {'1Z': '../data/s03_20161003T161231Z/panchromatic/s03_20161003T161231Z_pan_d2_0003.tif',\n",
       "   '7Z': '../data/s03_20161003T161107Z/panchromatic/s03_20161003T161107Z_pan_d2_0003.tif',\n",
       "   '8Z': '../data/s03_20161003T161148Z/panchromatic/s03_20161003T161148Z_pan_d2_0003.tif'},\n",
       "  4: {'1Z': '../data/s03_20161003T161231Z/panchromatic/s03_20161003T161231Z_pan_d2_0004.tif',\n",
       "   '7Z': '../data/s03_20161003T161107Z/panchromatic/s03_20161003T161107Z_pan_d2_0004.tif',\n",
       "   '8Z': '../data/s03_20161003T161148Z/panchromatic/s03_20161003T161148Z_pan_d2_0004.tif'},\n",
       "  5: {'1Z': '../data/s03_20161003T161231Z/panchromatic/s03_20161003T161231Z_pan_d2_0005.tif',\n",
       "   '7Z': '../data/s03_20161003T161107Z/panchromatic/s03_20161003T161107Z_pan_d2_0005.tif',\n",
       "   '8Z': '../data/s03_20161003T161148Z/panchromatic/s03_20161003T161148Z_pan_d2_0005.tif'},\n",
       "  6: {'1Z': '../data/s03_20161003T161231Z/panchromatic/s03_20161003T161231Z_pan_d2_0006.tif',\n",
       "   '7Z': '../data/s03_20161003T161107Z/panchromatic/s03_20161003T161107Z_pan_d2_0006.tif',\n",
       "   '8Z': '../data/s03_20161003T161148Z/panchromatic/s03_20161003T161148Z_pan_d2_0006.tif'},\n",
       "  7: {'1Z': '../data/s03_20161003T161231Z/panchromatic/s03_20161003T161231Z_pan_d2_0007.tif',\n",
       "   '7Z': '../data/s03_20161003T161107Z/panchromatic/s03_20161003T161107Z_pan_d2_0007.tif',\n",
       "   '8Z': '../data/s03_20161003T161148Z/panchromatic/s03_20161003T161148Z_pan_d2_0007.tif'},\n",
       "  8: {'1Z': '../data/s03_20161003T161231Z/panchromatic/s03_20161003T161231Z_pan_d2_0008.tif',\n",
       "   '7Z': '../data/s03_20161003T161107Z/panchromatic/s03_20161003T161107Z_pan_d2_0008.tif',\n",
       "   '8Z': '../data/s03_20161003T161148Z/panchromatic/s03_20161003T161148Z_pan_d2_0008.tif'},\n",
       "  9: {'1Z': '../data/s03_20161003T161231Z/panchromatic/s03_20161003T161231Z_pan_d2_0009.tif',\n",
       "   '7Z': '../data/s03_20161003T161107Z/panchromatic/s03_20161003T161107Z_pan_d2_0009.tif',\n",
       "   '8Z': '../data/s03_20161003T161148Z/panchromatic/s03_20161003T161148Z_pan_d2_0009.tif'},\n",
       "  10: {'1Z': '../data/s03_20161003T161231Z/panchromatic/s03_20161003T161231Z_pan_d2_0010.tif',\n",
       "   '7Z': '../data/s03_20161003T161107Z/panchromatic/s03_20161003T161107Z_pan_d2_0010.tif',\n",
       "   '8Z': '../data/s03_20161003T161148Z/panchromatic/s03_20161003T161148Z_pan_d2_0010.tif'},\n",
       "  11: {'1Z': '../data/s03_20161003T161231Z/panchromatic/s03_20161003T161231Z_pan_d2_0011.tif',\n",
       "   '7Z': '../data/s03_20161003T161107Z/panchromatic/s03_20161003T161107Z_pan_d2_0011.tif',\n",
       "   '8Z': '../data/s03_20161003T161148Z/panchromatic/s03_20161003T161148Z_pan_d2_0011.tif'},\n",
       "  12: {'1Z': '../data/s03_20161003T161231Z/panchromatic/s03_20161003T161231Z_pan_d2_0012.tif',\n",
       "   '7Z': '../data/s03_20161003T161107Z/panchromatic/s03_20161003T161107Z_pan_d2_0012.tif',\n",
       "   '8Z': '../data/s03_20161003T161148Z/panchromatic/s03_20161003T161148Z_pan_d2_0012.tif'},\n",
       "  13: {'1Z': '../data/s03_20161003T161231Z/panchromatic/s03_20161003T161231Z_pan_d2_0013.tif',\n",
       "   '7Z': '../data/s03_20161003T161107Z/panchromatic/s03_20161003T161107Z_pan_d2_0013.tif',\n",
       "   '8Z': '../data/s03_20161003T161148Z/panchromatic/s03_20161003T161148Z_pan_d2_0013.tif'},\n",
       "  14: {'1Z': '../data/s03_20161003T161231Z/panchromatic/s03_20161003T161231Z_pan_d2_0014.tif',\n",
       "   '7Z': '../data/s03_20161003T161107Z/panchromatic/s03_20161003T161107Z_pan_d2_0014.tif',\n",
       "   '8Z': '../data/s03_20161003T161148Z/panchromatic/s03_20161003T161148Z_pan_d2_0014.tif'},\n",
       "  15: {'1Z': '../data/s03_20161003T161231Z/panchromatic/s03_20161003T161231Z_pan_d2_0015.tif',\n",
       "   '7Z': '../data/s03_20161003T161107Z/panchromatic/s03_20161003T161107Z_pan_d2_0015.tif',\n",
       "   '8Z': '../data/s03_20161003T161148Z/panchromatic/s03_20161003T161148Z_pan_d2_0015.tif'},\n",
       "  16: {'1Z': '../data/s03_20161003T161231Z/panchromatic/s03_20161003T161231Z_pan_d2_0016.tif',\n",
       "   '7Z': '../data/s03_20161003T161107Z/panchromatic/s03_20161003T161107Z_pan_d2_0016.tif',\n",
       "   '8Z': '../data/s03_20161003T161148Z/panchromatic/s03_20161003T161148Z_pan_d2_0016.tif'},\n",
       "  17: {'1Z': '../data/s03_20161003T161231Z/panchromatic/s03_20161003T161231Z_pan_d2_0017.tif',\n",
       "   '7Z': '../data/s03_20161003T161107Z/panchromatic/s03_20161003T161107Z_pan_d2_0017.tif',\n",
       "   '8Z': '../data/s03_20161003T161148Z/panchromatic/s03_20161003T161148Z_pan_d2_0017.tif'},\n",
       "  18: {'1Z': '../data/s03_20161003T161231Z/panchromatic/s03_20161003T161231Z_pan_d2_0018.tif',\n",
       "   '7Z': '../data/s03_20161003T161107Z/panchromatic/s03_20161003T161107Z_pan_d2_0018.tif',\n",
       "   '8Z': '../data/s03_20161003T161148Z/panchromatic/s03_20161003T161148Z_pan_d2_0018.tif'},\n",
       "  19: {'8Z': '../data/s03_20161003T161148Z/panchromatic/s03_20161003T161148Z_pan_d2_0019.tif'},\n",
       "  20: {'8Z': '../data/s03_20161003T161148Z/panchromatic/s03_20161003T161148Z_pan_d2_0020.tif'},\n",
       "  21: {'8Z': '../data/s03_20161003T161148Z/panchromatic/s03_20161003T161148Z_pan_d2_0021.tif'}},\n",
       " 'd3': {1: {'1Z': '../data/s03_20161003T161231Z/panchromatic/s03_20161003T161231Z_pan_d3_0001.tif',\n",
       "   '7Z': '../data/s03_20161003T161107Z/panchromatic/s03_20161003T161107Z_pan_d3_0001.tif',\n",
       "   '8Z': '../data/s03_20161003T161148Z/panchromatic/s03_20161003T161148Z_pan_d3_0001.tif'},\n",
       "  2: {'1Z': '../data/s03_20161003T161231Z/panchromatic/s03_20161003T161231Z_pan_d3_0002.tif',\n",
       "   '7Z': '../data/s03_20161003T161107Z/panchromatic/s03_20161003T161107Z_pan_d3_0002.tif',\n",
       "   '8Z': '../data/s03_20161003T161148Z/panchromatic/s03_20161003T161148Z_pan_d3_0002.tif'},\n",
       "  3: {'1Z': '../data/s03_20161003T161231Z/panchromatic/s03_20161003T161231Z_pan_d3_0003.tif',\n",
       "   '7Z': '../data/s03_20161003T161107Z/panchromatic/s03_20161003T161107Z_pan_d3_0003.tif',\n",
       "   '8Z': '../data/s03_20161003T161148Z/panchromatic/s03_20161003T161148Z_pan_d3_0003.tif'},\n",
       "  4: {'1Z': '../data/s03_20161003T161231Z/panchromatic/s03_20161003T161231Z_pan_d3_0004.tif',\n",
       "   '7Z': '../data/s03_20161003T161107Z/panchromatic/s03_20161003T161107Z_pan_d3_0004.tif',\n",
       "   '8Z': '../data/s03_20161003T161148Z/panchromatic/s03_20161003T161148Z_pan_d3_0004.tif'},\n",
       "  5: {'1Z': '../data/s03_20161003T161231Z/panchromatic/s03_20161003T161231Z_pan_d3_0005.tif',\n",
       "   '7Z': '../data/s03_20161003T161107Z/panchromatic/s03_20161003T161107Z_pan_d3_0005.tif',\n",
       "   '8Z': '../data/s03_20161003T161148Z/panchromatic/s03_20161003T161148Z_pan_d3_0005.tif'},\n",
       "  6: {'1Z': '../data/s03_20161003T161231Z/panchromatic/s03_20161003T161231Z_pan_d3_0006.tif',\n",
       "   '7Z': '../data/s03_20161003T161107Z/panchromatic/s03_20161003T161107Z_pan_d3_0006.tif',\n",
       "   '8Z': '../data/s03_20161003T161148Z/panchromatic/s03_20161003T161148Z_pan_d3_0006.tif'},\n",
       "  7: {'1Z': '../data/s03_20161003T161231Z/panchromatic/s03_20161003T161231Z_pan_d3_0007.tif',\n",
       "   '7Z': '../data/s03_20161003T161107Z/panchromatic/s03_20161003T161107Z_pan_d3_0007.tif',\n",
       "   '8Z': '../data/s03_20161003T161148Z/panchromatic/s03_20161003T161148Z_pan_d3_0007.tif'},\n",
       "  8: {'1Z': '../data/s03_20161003T161231Z/panchromatic/s03_20161003T161231Z_pan_d3_0008.tif',\n",
       "   '7Z': '../data/s03_20161003T161107Z/panchromatic/s03_20161003T161107Z_pan_d3_0008.tif',\n",
       "   '8Z': '../data/s03_20161003T161148Z/panchromatic/s03_20161003T161148Z_pan_d3_0008.tif'},\n",
       "  9: {'1Z': '../data/s03_20161003T161231Z/panchromatic/s03_20161003T161231Z_pan_d3_0009.tif',\n",
       "   '7Z': '../data/s03_20161003T161107Z/panchromatic/s03_20161003T161107Z_pan_d3_0009.tif',\n",
       "   '8Z': '../data/s03_20161003T161148Z/panchromatic/s03_20161003T161148Z_pan_d3_0009.tif'},\n",
       "  10: {'1Z': '../data/s03_20161003T161231Z/panchromatic/s03_20161003T161231Z_pan_d3_0010.tif',\n",
       "   '7Z': '../data/s03_20161003T161107Z/panchromatic/s03_20161003T161107Z_pan_d3_0010.tif',\n",
       "   '8Z': '../data/s03_20161003T161148Z/panchromatic/s03_20161003T161148Z_pan_d3_0010.tif'},\n",
       "  11: {'1Z': '../data/s03_20161003T161231Z/panchromatic/s03_20161003T161231Z_pan_d3_0011.tif',\n",
       "   '7Z': '../data/s03_20161003T161107Z/panchromatic/s03_20161003T161107Z_pan_d3_0011.tif',\n",
       "   '8Z': '../data/s03_20161003T161148Z/panchromatic/s03_20161003T161148Z_pan_d3_0011.tif'},\n",
       "  12: {'1Z': '../data/s03_20161003T161231Z/panchromatic/s03_20161003T161231Z_pan_d3_0012.tif',\n",
       "   '7Z': '../data/s03_20161003T161107Z/panchromatic/s03_20161003T161107Z_pan_d3_0012.tif',\n",
       "   '8Z': '../data/s03_20161003T161148Z/panchromatic/s03_20161003T161148Z_pan_d3_0012.tif'},\n",
       "  13: {'1Z': '../data/s03_20161003T161231Z/panchromatic/s03_20161003T161231Z_pan_d3_0013.tif',\n",
       "   '7Z': '../data/s03_20161003T161107Z/panchromatic/s03_20161003T161107Z_pan_d3_0013.tif',\n",
       "   '8Z': '../data/s03_20161003T161148Z/panchromatic/s03_20161003T161148Z_pan_d3_0013.tif'},\n",
       "  14: {'1Z': '../data/s03_20161003T161231Z/panchromatic/s03_20161003T161231Z_pan_d3_0014.tif',\n",
       "   '7Z': '../data/s03_20161003T161107Z/panchromatic/s03_20161003T161107Z_pan_d3_0014.tif',\n",
       "   '8Z': '../data/s03_20161003T161148Z/panchromatic/s03_20161003T161148Z_pan_d3_0014.tif'},\n",
       "  15: {'1Z': '../data/s03_20161003T161231Z/panchromatic/s03_20161003T161231Z_pan_d3_0015.tif',\n",
       "   '7Z': '../data/s03_20161003T161107Z/panchromatic/s03_20161003T161107Z_pan_d3_0015.tif',\n",
       "   '8Z': '../data/s03_20161003T161148Z/panchromatic/s03_20161003T161148Z_pan_d3_0015.tif'},\n",
       "  16: {'1Z': '../data/s03_20161003T161231Z/panchromatic/s03_20161003T161231Z_pan_d3_0016.tif',\n",
       "   '7Z': '../data/s03_20161003T161107Z/panchromatic/s03_20161003T161107Z_pan_d3_0016.tif',\n",
       "   '8Z': '../data/s03_20161003T161148Z/panchromatic/s03_20161003T161148Z_pan_d3_0016.tif'},\n",
       "  17: {'1Z': '../data/s03_20161003T161231Z/panchromatic/s03_20161003T161231Z_pan_d3_0017.tif',\n",
       "   '7Z': '../data/s03_20161003T161107Z/panchromatic/s03_20161003T161107Z_pan_d3_0017.tif',\n",
       "   '8Z': '../data/s03_20161003T161148Z/panchromatic/s03_20161003T161148Z_pan_d3_0017.tif'},\n",
       "  18: {'1Z': '../data/s03_20161003T161231Z/panchromatic/s03_20161003T161231Z_pan_d3_0018.tif',\n",
       "   '7Z': '../data/s03_20161003T161107Z/panchromatic/s03_20161003T161107Z_pan_d3_0018.tif',\n",
       "   '8Z': '../data/s03_20161003T161148Z/panchromatic/s03_20161003T161148Z_pan_d3_0018.tif'},\n",
       "  19: {'8Z': '../data/s03_20161003T161148Z/panchromatic/s03_20161003T161148Z_pan_d3_0019.tif'},\n",
       "  20: {'8Z': '../data/s03_20161003T161148Z/panchromatic/s03_20161003T161148Z_pan_d3_0020.tif'},\n",
       "  21: {'8Z': '../data/s03_20161003T161148Z/panchromatic/s03_20161003T161148Z_pan_d3_0021.tif'}}}"
      ]
     },
     "execution_count": 4,
     "metadata": {},
     "output_type": "execute_result"
    }
   ],
   "source": [
    "area"
   ]
  },
  {
   "cell_type": "code",
   "execution_count": 5,
   "metadata": {
    "scrolled": true
   },
   "outputs": [
    {
     "data": {
      "text/plain": [
       "{'1Z': {'d1': {1: '../data/s03_20161003T161231Z/panchromatic/s03_20161003T161231Z_pan_d1_0001.tif',\n",
       "   2: '../data/s03_20161003T161231Z/panchromatic/s03_20161003T161231Z_pan_d1_0002.tif',\n",
       "   3: '../data/s03_20161003T161231Z/panchromatic/s03_20161003T161231Z_pan_d1_0003.tif',\n",
       "   4: '../data/s03_20161003T161231Z/panchromatic/s03_20161003T161231Z_pan_d1_0004.tif',\n",
       "   5: '../data/s03_20161003T161231Z/panchromatic/s03_20161003T161231Z_pan_d1_0005.tif',\n",
       "   6: '../data/s03_20161003T161231Z/panchromatic/s03_20161003T161231Z_pan_d1_0006.tif',\n",
       "   7: '../data/s03_20161003T161231Z/panchromatic/s03_20161003T161231Z_pan_d1_0007.tif',\n",
       "   8: '../data/s03_20161003T161231Z/panchromatic/s03_20161003T161231Z_pan_d1_0008.tif',\n",
       "   9: '../data/s03_20161003T161231Z/panchromatic/s03_20161003T161231Z_pan_d1_0009.tif',\n",
       "   10: '../data/s03_20161003T161231Z/panchromatic/s03_20161003T161231Z_pan_d1_0010.tif',\n",
       "   11: '../data/s03_20161003T161231Z/panchromatic/s03_20161003T161231Z_pan_d1_0011.tif',\n",
       "   12: '../data/s03_20161003T161231Z/panchromatic/s03_20161003T161231Z_pan_d1_0012.tif',\n",
       "   13: '../data/s03_20161003T161231Z/panchromatic/s03_20161003T161231Z_pan_d1_0013.tif',\n",
       "   14: '../data/s03_20161003T161231Z/panchromatic/s03_20161003T161231Z_pan_d1_0014.tif',\n",
       "   15: '../data/s03_20161003T161231Z/panchromatic/s03_20161003T161231Z_pan_d1_0015.tif',\n",
       "   16: '../data/s03_20161003T161231Z/panchromatic/s03_20161003T161231Z_pan_d1_0016.tif',\n",
       "   17: '../data/s03_20161003T161231Z/panchromatic/s03_20161003T161231Z_pan_d1_0017.tif',\n",
       "   18: '../data/s03_20161003T161231Z/panchromatic/s03_20161003T161231Z_pan_d1_0018.tif'},\n",
       "  'd2': {1: '../data/s03_20161003T161231Z/panchromatic/s03_20161003T161231Z_pan_d2_0001.tif',\n",
       "   2: '../data/s03_20161003T161231Z/panchromatic/s03_20161003T161231Z_pan_d2_0002.tif',\n",
       "   3: '../data/s03_20161003T161231Z/panchromatic/s03_20161003T161231Z_pan_d2_0003.tif',\n",
       "   4: '../data/s03_20161003T161231Z/panchromatic/s03_20161003T161231Z_pan_d2_0004.tif',\n",
       "   5: '../data/s03_20161003T161231Z/panchromatic/s03_20161003T161231Z_pan_d2_0005.tif',\n",
       "   6: '../data/s03_20161003T161231Z/panchromatic/s03_20161003T161231Z_pan_d2_0006.tif',\n",
       "   7: '../data/s03_20161003T161231Z/panchromatic/s03_20161003T161231Z_pan_d2_0007.tif',\n",
       "   8: '../data/s03_20161003T161231Z/panchromatic/s03_20161003T161231Z_pan_d2_0008.tif',\n",
       "   9: '../data/s03_20161003T161231Z/panchromatic/s03_20161003T161231Z_pan_d2_0009.tif',\n",
       "   10: '../data/s03_20161003T161231Z/panchromatic/s03_20161003T161231Z_pan_d2_0010.tif',\n",
       "   11: '../data/s03_20161003T161231Z/panchromatic/s03_20161003T161231Z_pan_d2_0011.tif',\n",
       "   12: '../data/s03_20161003T161231Z/panchromatic/s03_20161003T161231Z_pan_d2_0012.tif',\n",
       "   13: '../data/s03_20161003T161231Z/panchromatic/s03_20161003T161231Z_pan_d2_0013.tif',\n",
       "   14: '../data/s03_20161003T161231Z/panchromatic/s03_20161003T161231Z_pan_d2_0014.tif',\n",
       "   15: '../data/s03_20161003T161231Z/panchromatic/s03_20161003T161231Z_pan_d2_0015.tif',\n",
       "   16: '../data/s03_20161003T161231Z/panchromatic/s03_20161003T161231Z_pan_d2_0016.tif',\n",
       "   17: '../data/s03_20161003T161231Z/panchromatic/s03_20161003T161231Z_pan_d2_0017.tif',\n",
       "   18: '../data/s03_20161003T161231Z/panchromatic/s03_20161003T161231Z_pan_d2_0018.tif'},\n",
       "  'd3': {1: '../data/s03_20161003T161231Z/panchromatic/s03_20161003T161231Z_pan_d3_0001.tif',\n",
       "   2: '../data/s03_20161003T161231Z/panchromatic/s03_20161003T161231Z_pan_d3_0002.tif',\n",
       "   3: '../data/s03_20161003T161231Z/panchromatic/s03_20161003T161231Z_pan_d3_0003.tif',\n",
       "   4: '../data/s03_20161003T161231Z/panchromatic/s03_20161003T161231Z_pan_d3_0004.tif',\n",
       "   5: '../data/s03_20161003T161231Z/panchromatic/s03_20161003T161231Z_pan_d3_0005.tif',\n",
       "   6: '../data/s03_20161003T161231Z/panchromatic/s03_20161003T161231Z_pan_d3_0006.tif',\n",
       "   7: '../data/s03_20161003T161231Z/panchromatic/s03_20161003T161231Z_pan_d3_0007.tif',\n",
       "   8: '../data/s03_20161003T161231Z/panchromatic/s03_20161003T161231Z_pan_d3_0008.tif',\n",
       "   9: '../data/s03_20161003T161231Z/panchromatic/s03_20161003T161231Z_pan_d3_0009.tif',\n",
       "   10: '../data/s03_20161003T161231Z/panchromatic/s03_20161003T161231Z_pan_d3_0010.tif',\n",
       "   11: '../data/s03_20161003T161231Z/panchromatic/s03_20161003T161231Z_pan_d3_0011.tif',\n",
       "   12: '../data/s03_20161003T161231Z/panchromatic/s03_20161003T161231Z_pan_d3_0012.tif',\n",
       "   13: '../data/s03_20161003T161231Z/panchromatic/s03_20161003T161231Z_pan_d3_0013.tif',\n",
       "   14: '../data/s03_20161003T161231Z/panchromatic/s03_20161003T161231Z_pan_d3_0014.tif',\n",
       "   15: '../data/s03_20161003T161231Z/panchromatic/s03_20161003T161231Z_pan_d3_0015.tif',\n",
       "   16: '../data/s03_20161003T161231Z/panchromatic/s03_20161003T161231Z_pan_d3_0016.tif',\n",
       "   17: '../data/s03_20161003T161231Z/panchromatic/s03_20161003T161231Z_pan_d3_0017.tif',\n",
       "   18: '../data/s03_20161003T161231Z/panchromatic/s03_20161003T161231Z_pan_d3_0018.tif'}},\n",
       " '7Z': {'d1': {1: '../data/s03_20161003T161107Z/panchromatic/s03_20161003T161107Z_pan_d1_0001.tif',\n",
       "   2: '../data/s03_20161003T161107Z/panchromatic/s03_20161003T161107Z_pan_d1_0002.tif',\n",
       "   3: '../data/s03_20161003T161107Z/panchromatic/s03_20161003T161107Z_pan_d1_0003.tif',\n",
       "   4: '../data/s03_20161003T161107Z/panchromatic/s03_20161003T161107Z_pan_d1_0004.tif',\n",
       "   5: '../data/s03_20161003T161107Z/panchromatic/s03_20161003T161107Z_pan_d1_0005.tif',\n",
       "   6: '../data/s03_20161003T161107Z/panchromatic/s03_20161003T161107Z_pan_d1_0006.tif',\n",
       "   7: '../data/s03_20161003T161107Z/panchromatic/s03_20161003T161107Z_pan_d1_0007.tif',\n",
       "   8: '../data/s03_20161003T161107Z/panchromatic/s03_20161003T161107Z_pan_d1_0008.tif',\n",
       "   9: '../data/s03_20161003T161107Z/panchromatic/s03_20161003T161107Z_pan_d1_0009.tif',\n",
       "   10: '../data/s03_20161003T161107Z/panchromatic/s03_20161003T161107Z_pan_d1_0010.tif',\n",
       "   11: '../data/s03_20161003T161107Z/panchromatic/s03_20161003T161107Z_pan_d1_0011.tif',\n",
       "   12: '../data/s03_20161003T161107Z/panchromatic/s03_20161003T161107Z_pan_d1_0012.tif',\n",
       "   13: '../data/s03_20161003T161107Z/panchromatic/s03_20161003T161107Z_pan_d1_0013.tif',\n",
       "   14: '../data/s03_20161003T161107Z/panchromatic/s03_20161003T161107Z_pan_d1_0014.tif',\n",
       "   15: '../data/s03_20161003T161107Z/panchromatic/s03_20161003T161107Z_pan_d1_0015.tif',\n",
       "   16: '../data/s03_20161003T161107Z/panchromatic/s03_20161003T161107Z_pan_d1_0016.tif',\n",
       "   17: '../data/s03_20161003T161107Z/panchromatic/s03_20161003T161107Z_pan_d1_0017.tif',\n",
       "   18: '../data/s03_20161003T161107Z/panchromatic/s03_20161003T161107Z_pan_d1_0018.tif'},\n",
       "  'd2': {1: '../data/s03_20161003T161107Z/panchromatic/s03_20161003T161107Z_pan_d2_0001.tif',\n",
       "   2: '../data/s03_20161003T161107Z/panchromatic/s03_20161003T161107Z_pan_d2_0002.tif',\n",
       "   3: '../data/s03_20161003T161107Z/panchromatic/s03_20161003T161107Z_pan_d2_0003.tif',\n",
       "   4: '../data/s03_20161003T161107Z/panchromatic/s03_20161003T161107Z_pan_d2_0004.tif',\n",
       "   5: '../data/s03_20161003T161107Z/panchromatic/s03_20161003T161107Z_pan_d2_0005.tif',\n",
       "   6: '../data/s03_20161003T161107Z/panchromatic/s03_20161003T161107Z_pan_d2_0006.tif',\n",
       "   7: '../data/s03_20161003T161107Z/panchromatic/s03_20161003T161107Z_pan_d2_0007.tif',\n",
       "   8: '../data/s03_20161003T161107Z/panchromatic/s03_20161003T161107Z_pan_d2_0008.tif',\n",
       "   9: '../data/s03_20161003T161107Z/panchromatic/s03_20161003T161107Z_pan_d2_0009.tif',\n",
       "   10: '../data/s03_20161003T161107Z/panchromatic/s03_20161003T161107Z_pan_d2_0010.tif',\n",
       "   11: '../data/s03_20161003T161107Z/panchromatic/s03_20161003T161107Z_pan_d2_0011.tif',\n",
       "   12: '../data/s03_20161003T161107Z/panchromatic/s03_20161003T161107Z_pan_d2_0012.tif',\n",
       "   13: '../data/s03_20161003T161107Z/panchromatic/s03_20161003T161107Z_pan_d2_0013.tif',\n",
       "   14: '../data/s03_20161003T161107Z/panchromatic/s03_20161003T161107Z_pan_d2_0014.tif',\n",
       "   15: '../data/s03_20161003T161107Z/panchromatic/s03_20161003T161107Z_pan_d2_0015.tif',\n",
       "   16: '../data/s03_20161003T161107Z/panchromatic/s03_20161003T161107Z_pan_d2_0016.tif',\n",
       "   17: '../data/s03_20161003T161107Z/panchromatic/s03_20161003T161107Z_pan_d2_0017.tif',\n",
       "   18: '../data/s03_20161003T161107Z/panchromatic/s03_20161003T161107Z_pan_d2_0018.tif'},\n",
       "  'd3': {1: '../data/s03_20161003T161107Z/panchromatic/s03_20161003T161107Z_pan_d3_0001.tif',\n",
       "   2: '../data/s03_20161003T161107Z/panchromatic/s03_20161003T161107Z_pan_d3_0002.tif',\n",
       "   3: '../data/s03_20161003T161107Z/panchromatic/s03_20161003T161107Z_pan_d3_0003.tif',\n",
       "   4: '../data/s03_20161003T161107Z/panchromatic/s03_20161003T161107Z_pan_d3_0004.tif',\n",
       "   5: '../data/s03_20161003T161107Z/panchromatic/s03_20161003T161107Z_pan_d3_0005.tif',\n",
       "   6: '../data/s03_20161003T161107Z/panchromatic/s03_20161003T161107Z_pan_d3_0006.tif',\n",
       "   7: '../data/s03_20161003T161107Z/panchromatic/s03_20161003T161107Z_pan_d3_0007.tif',\n",
       "   8: '../data/s03_20161003T161107Z/panchromatic/s03_20161003T161107Z_pan_d3_0008.tif',\n",
       "   9: '../data/s03_20161003T161107Z/panchromatic/s03_20161003T161107Z_pan_d3_0009.tif',\n",
       "   10: '../data/s03_20161003T161107Z/panchromatic/s03_20161003T161107Z_pan_d3_0010.tif',\n",
       "   11: '../data/s03_20161003T161107Z/panchromatic/s03_20161003T161107Z_pan_d3_0011.tif',\n",
       "   12: '../data/s03_20161003T161107Z/panchromatic/s03_20161003T161107Z_pan_d3_0012.tif',\n",
       "   13: '../data/s03_20161003T161107Z/panchromatic/s03_20161003T161107Z_pan_d3_0013.tif',\n",
       "   14: '../data/s03_20161003T161107Z/panchromatic/s03_20161003T161107Z_pan_d3_0014.tif',\n",
       "   15: '../data/s03_20161003T161107Z/panchromatic/s03_20161003T161107Z_pan_d3_0015.tif',\n",
       "   16: '../data/s03_20161003T161107Z/panchromatic/s03_20161003T161107Z_pan_d3_0016.tif',\n",
       "   17: '../data/s03_20161003T161107Z/panchromatic/s03_20161003T161107Z_pan_d3_0017.tif',\n",
       "   18: '../data/s03_20161003T161107Z/panchromatic/s03_20161003T161107Z_pan_d3_0018.tif'}},\n",
       " '8Z': {'d1': {1: '../data/s03_20161003T161148Z/panchromatic/s03_20161003T161148Z_pan_d1_0001.tif',\n",
       "   2: '../data/s03_20161003T161148Z/panchromatic/s03_20161003T161148Z_pan_d1_0002.tif',\n",
       "   3: '../data/s03_20161003T161148Z/panchromatic/s03_20161003T161148Z_pan_d1_0003.tif',\n",
       "   4: '../data/s03_20161003T161148Z/panchromatic/s03_20161003T161148Z_pan_d1_0004.tif',\n",
       "   5: '../data/s03_20161003T161148Z/panchromatic/s03_20161003T161148Z_pan_d1_0005.tif',\n",
       "   6: '../data/s03_20161003T161148Z/panchromatic/s03_20161003T161148Z_pan_d1_0006.tif',\n",
       "   7: '../data/s03_20161003T161148Z/panchromatic/s03_20161003T161148Z_pan_d1_0007.tif',\n",
       "   8: '../data/s03_20161003T161148Z/panchromatic/s03_20161003T161148Z_pan_d1_0008.tif',\n",
       "   9: '../data/s03_20161003T161148Z/panchromatic/s03_20161003T161148Z_pan_d1_0009.tif',\n",
       "   10: '../data/s03_20161003T161148Z/panchromatic/s03_20161003T161148Z_pan_d1_0010.tif',\n",
       "   11: '../data/s03_20161003T161148Z/panchromatic/s03_20161003T161148Z_pan_d1_0011.tif',\n",
       "   12: '../data/s03_20161003T161148Z/panchromatic/s03_20161003T161148Z_pan_d1_0012.tif',\n",
       "   13: '../data/s03_20161003T161148Z/panchromatic/s03_20161003T161148Z_pan_d1_0013.tif',\n",
       "   14: '../data/s03_20161003T161148Z/panchromatic/s03_20161003T161148Z_pan_d1_0014.tif',\n",
       "   15: '../data/s03_20161003T161148Z/panchromatic/s03_20161003T161148Z_pan_d1_0015.tif',\n",
       "   16: '../data/s03_20161003T161148Z/panchromatic/s03_20161003T161148Z_pan_d1_0016.tif',\n",
       "   17: '../data/s03_20161003T161148Z/panchromatic/s03_20161003T161148Z_pan_d1_0017.tif',\n",
       "   18: '../data/s03_20161003T161148Z/panchromatic/s03_20161003T161148Z_pan_d1_0018.tif',\n",
       "   19: '../data/s03_20161003T161148Z/panchromatic/s03_20161003T161148Z_pan_d1_0019.tif',\n",
       "   20: '../data/s03_20161003T161148Z/panchromatic/s03_20161003T161148Z_pan_d1_0020.tif',\n",
       "   21: '../data/s03_20161003T161148Z/panchromatic/s03_20161003T161148Z_pan_d1_0021.tif'},\n",
       "  'd2': {1: '../data/s03_20161003T161148Z/panchromatic/s03_20161003T161148Z_pan_d2_0001.tif',\n",
       "   2: '../data/s03_20161003T161148Z/panchromatic/s03_20161003T161148Z_pan_d2_0002.tif',\n",
       "   3: '../data/s03_20161003T161148Z/panchromatic/s03_20161003T161148Z_pan_d2_0003.tif',\n",
       "   4: '../data/s03_20161003T161148Z/panchromatic/s03_20161003T161148Z_pan_d2_0004.tif',\n",
       "   5: '../data/s03_20161003T161148Z/panchromatic/s03_20161003T161148Z_pan_d2_0005.tif',\n",
       "   6: '../data/s03_20161003T161148Z/panchromatic/s03_20161003T161148Z_pan_d2_0006.tif',\n",
       "   7: '../data/s03_20161003T161148Z/panchromatic/s03_20161003T161148Z_pan_d2_0007.tif',\n",
       "   8: '../data/s03_20161003T161148Z/panchromatic/s03_20161003T161148Z_pan_d2_0008.tif',\n",
       "   9: '../data/s03_20161003T161148Z/panchromatic/s03_20161003T161148Z_pan_d2_0009.tif',\n",
       "   10: '../data/s03_20161003T161148Z/panchromatic/s03_20161003T161148Z_pan_d2_0010.tif',\n",
       "   11: '../data/s03_20161003T161148Z/panchromatic/s03_20161003T161148Z_pan_d2_0011.tif',\n",
       "   12: '../data/s03_20161003T161148Z/panchromatic/s03_20161003T161148Z_pan_d2_0012.tif',\n",
       "   13: '../data/s03_20161003T161148Z/panchromatic/s03_20161003T161148Z_pan_d2_0013.tif',\n",
       "   14: '../data/s03_20161003T161148Z/panchromatic/s03_20161003T161148Z_pan_d2_0014.tif',\n",
       "   15: '../data/s03_20161003T161148Z/panchromatic/s03_20161003T161148Z_pan_d2_0015.tif',\n",
       "   16: '../data/s03_20161003T161148Z/panchromatic/s03_20161003T161148Z_pan_d2_0016.tif',\n",
       "   17: '../data/s03_20161003T161148Z/panchromatic/s03_20161003T161148Z_pan_d2_0017.tif',\n",
       "   18: '../data/s03_20161003T161148Z/panchromatic/s03_20161003T161148Z_pan_d2_0018.tif',\n",
       "   19: '../data/s03_20161003T161148Z/panchromatic/s03_20161003T161148Z_pan_d2_0019.tif',\n",
       "   20: '../data/s03_20161003T161148Z/panchromatic/s03_20161003T161148Z_pan_d2_0020.tif',\n",
       "   21: '../data/s03_20161003T161148Z/panchromatic/s03_20161003T161148Z_pan_d2_0021.tif'},\n",
       "  'd3': {1: '../data/s03_20161003T161148Z/panchromatic/s03_20161003T161148Z_pan_d3_0001.tif',\n",
       "   2: '../data/s03_20161003T161148Z/panchromatic/s03_20161003T161148Z_pan_d3_0002.tif',\n",
       "   3: '../data/s03_20161003T161148Z/panchromatic/s03_20161003T161148Z_pan_d3_0003.tif',\n",
       "   4: '../data/s03_20161003T161148Z/panchromatic/s03_20161003T161148Z_pan_d3_0004.tif',\n",
       "   5: '../data/s03_20161003T161148Z/panchromatic/s03_20161003T161148Z_pan_d3_0005.tif',\n",
       "   6: '../data/s03_20161003T161148Z/panchromatic/s03_20161003T161148Z_pan_d3_0006.tif',\n",
       "   7: '../data/s03_20161003T161148Z/panchromatic/s03_20161003T161148Z_pan_d3_0007.tif',\n",
       "   8: '../data/s03_20161003T161148Z/panchromatic/s03_20161003T161148Z_pan_d3_0008.tif',\n",
       "   9: '../data/s03_20161003T161148Z/panchromatic/s03_20161003T161148Z_pan_d3_0009.tif',\n",
       "   10: '../data/s03_20161003T161148Z/panchromatic/s03_20161003T161148Z_pan_d3_0010.tif',\n",
       "   11: '../data/s03_20161003T161148Z/panchromatic/s03_20161003T161148Z_pan_d3_0011.tif',\n",
       "   12: '../data/s03_20161003T161148Z/panchromatic/s03_20161003T161148Z_pan_d3_0012.tif',\n",
       "   13: '../data/s03_20161003T161148Z/panchromatic/s03_20161003T161148Z_pan_d3_0013.tif',\n",
       "   14: '../data/s03_20161003T161148Z/panchromatic/s03_20161003T161148Z_pan_d3_0014.tif',\n",
       "   15: '../data/s03_20161003T161148Z/panchromatic/s03_20161003T161148Z_pan_d3_0015.tif',\n",
       "   16: '../data/s03_20161003T161148Z/panchromatic/s03_20161003T161148Z_pan_d3_0016.tif',\n",
       "   17: '../data/s03_20161003T161148Z/panchromatic/s03_20161003T161148Z_pan_d3_0017.tif',\n",
       "   18: '../data/s03_20161003T161148Z/panchromatic/s03_20161003T161148Z_pan_d3_0018.tif',\n",
       "   19: '../data/s03_20161003T161148Z/panchromatic/s03_20161003T161148Z_pan_d3_0019.tif',\n",
       "   20: '../data/s03_20161003T161148Z/panchromatic/s03_20161003T161148Z_pan_d3_0020.tif',\n",
       "   21: '../data/s03_20161003T161148Z/panchromatic/s03_20161003T161148Z_pan_d3_0021.tif'}}}"
      ]
     },
     "execution_count": 5,
     "metadata": {},
     "output_type": "execute_result"
    }
   ],
   "source": [
    "triplets"
   ]
  },
  {
   "cell_type": "markdown",
   "metadata": {},
   "source": [
    "# S03"
   ]
  },
  {
   "cell_type": "code",
   "execution_count": 6,
   "metadata": {},
   "outputs": [],
   "source": [
    "from ipytools import clickablemap"
   ]
  },
  {
   "cell_type": "code",
   "execution_count": 7,
   "metadata": {
    "scrolled": false
   },
   "outputs": [
    {
     "data": {
      "application/vnd.jupyter.widget-view+json": {
       "model_id": "c8306f3eb0b24e29b8fb5b5110ab53a4",
       "version_major": 2,
       "version_minor": 0
      },
      "text/html": [
       "<p>Failed to display Jupyter Widget of type <code>Map</code>.</p>\n",
       "<p>\n",
       "  If you're reading this message in the Jupyter Notebook or JupyterLab Notebook, it may mean\n",
       "  that the widgets JavaScript is still loading. If this message persists, it\n",
       "  likely means that the widgets JavaScript library is either not installed or\n",
       "  not enabled. See the <a href=\"https://ipywidgets.readthedocs.io/en/stable/user_install.html\">Jupyter\n",
       "  Widgets Documentation</a> for setup instructions.\n",
       "</p>\n",
       "<p>\n",
       "  If you're reading this message in another frontend (for example, a static\n",
       "  rendering on GitHub or <a href=\"https://nbviewer.jupyter.org/\">NBViewer</a>),\n",
       "  it may mean that your frontend doesn't currently support widgets.\n",
       "</p>\n"
      ],
      "text/plain": [
       "Map(basemap={'url': 'https://{s}.tile.openstreetmap.org/{z}/{x}/{y}.png', 'max_zoom': 19, 'attribution': 'Map data (c) <a href=\"https://openstreetmap.org\">OpenStreetMap</a> contributors'}, center=[48.790153, 2.327395], controls=(DrawControl(circle={'shapeOptions': {'color': '#0000FF'}}, layer=FeatureGroup(), polygon={'shapeOptions': {'color': '#0000FF'}}, polyline={'shapeOptions': {'color': '#0000FF'}}, rectangle={'shapeOptions': {'color': '#0000FF'}}),), layers=(TileLayer(base=True, max_zoom=19, min_zoom=1, options=['attribution', 'detect_retina', 'max_zoom', 'min_zoom', 'tile_size']),), layout=Layout(height='500px', width='100%'), options=['attribution_control', 'basemap', 'bounce_at_zoom_limits', 'box_zoom', 'center', 'close_popup_on_click', 'double_click_zoom', 'dragging', 'inertia', 'inertia_deceleration', 'inertia_max_speed', 'keyboard', 'keyboard_pan_offset', 'keyboard_zoom_offset', 'max_zoom', 'min_zoom', 'scroll_wheel_zoom', 'tap', 'tap_tolerance', 'touch_zoom', 'world_copy_jump', 'zoom', 'zoom_animation_threshold', 'zoom_control', 'zoom_start'], scroll_wheel_zoom=True, zoom=14)"
      ]
     },
     "metadata": {},
     "output_type": "display_data"
    }
   ],
   "source": [
    "# these lines create a map objet and display it\n",
    "m = clickablemap(zoom=14)\n",
    "display(m)\n",
    "\n",
    "# we can move the map to any position by indicating its (latitude, longitude)\n",
    "m.center = [35.96134549, -96.7190739]   # i.e. Cushing USA"
   ]
  },
  {
   "cell_type": "code",
   "execution_count": 8,
   "metadata": {},
   "outputs": [
    {
     "data": {
      "text/plain": [
       "'../data/s03_20161003T161231Z/panchromatic/s03_20161003T161231Z_pan_d1_0001_rpc.txt'"
      ]
     },
     "execution_count": 8,
     "metadata": {},
     "output_type": "execute_result"
    }
   ],
   "source": [
    "f_img = triplets['1Z']['d1'][1]\n",
    "f_rpc = f_img.replace(\".tif\", \"_rpc.txt\")\n",
    "f_rpc"
   ]
  },
  {
   "cell_type": "code",
   "execution_count": 9,
   "metadata": {},
   "outputs": [
    {
     "data": {
      "text/plain": [
       "\n",
       "    # Projection function coefficients\n",
       "      col_num = -0.0018  1.0424  0.0220 -0.0202 -0.0039  0.0033  0.0001 -0.0851 -0.0000 -0.0000  0.0000  0.0000  0.0000  0.0000  0.0000  0.0000  0.0000  0.0000  0.0000  0.0000\n",
       "      col_den =  1.0000 -0.0824 -0.0011  0.0014 -0.0001  0.0000  0.0000  0.0001  0.0000 -0.0000  0.0000  0.0000  0.0000  0.0000  0.0000  0.0000  0.0000  0.0000  0.0000  0.0000\n",
       "      row_num = -0.0015 -0.4367 -1.4931 -0.0566  0.2310  0.0088  0.0300  0.0337  0.3951  0.0006  0.0000  0.0000  0.0000  0.0000  0.0000  0.0000  0.0000  0.0000  0.0000  0.0000\n",
       "      row_den =  1.0000 -0.0780 -0.2637 -0.0101  0.0001  0.0000  0.0000  0.0001 -0.0002  0.0000  0.0000  0.0000  0.0000  0.0000  0.0000  0.0000  0.0000  0.0000  0.0000  0.0000\n",
       "\n",
       "    # Offsets and Scales\n",
       "      row_offset = 674.5\n",
       "      col_offset = 1599.5\n",
       "      lat_offset = 36.05096386\n",
       "      lon_offset = -96.72475481\n",
       "      alt_offset = 282.0\n",
       "      row_scale = 674.5\n",
       "      col_scale = 1599.5\n",
       "      lat_scale = 0.0092312\n",
       "      lon_scale = 0.01782048\n",
       "      alt_scale = 74.0"
      ]
     },
     "execution_count": 9,
     "metadata": {},
     "output_type": "execute_result"
    }
   ],
   "source": [
    "rpc_f = RPCModel(triplets['1Z']['d1'][2].replace(\".tif\", \"_rpc.txt\"))\n",
    "rpc_f"
   ]
  },
  {
   "cell_type": "code",
   "execution_count": 10,
   "metadata": {},
   "outputs": [
    {
     "data": {
      "text/plain": [
       "\n",
       "    # Projection function coefficients\n",
       "      col_num = -0.0018  1.0424  0.0230 -0.0193 -0.0018  0.0012  0.0000 -0.0365  0.0000 -0.0000  0.0000  0.0000  0.0000  0.0000  0.0000  0.0000  0.0000  0.0000  0.0000  0.0000\n",
       "      col_den =  1.0000 -0.0357  0.0001  0.0004 -0.0000  0.0000  0.0000  0.0000  0.0000 -0.0000  0.0000  0.0000  0.0000  0.0000  0.0000  0.0000  0.0000  0.0000  0.0000  0.0000\n",
       "      row_num = -0.0016 -0.4502 -1.5096 -0.0596  0.1875  0.0074  0.0249  0.0279  0.3146  0.0005  0.0000  0.0000  0.0000  0.0000  0.0000  0.0000  0.0000  0.0000  0.0000  0.0000\n",
       "      row_den =  1.0000 -0.0626 -0.2074 -0.0083  0.0001  0.0000  0.0000  0.0000 -0.0002  0.0000  0.0000  0.0000  0.0000  0.0000  0.0000  0.0000  0.0000  0.0000  0.0000  0.0000\n",
       "\n",
       "    # Offsets and Scales\n",
       "      row_offset = 674.5\n",
       "      col_offset = 1599.5\n",
       "      lat_offset = 35.96134549\n",
       "      lon_offset = -96.7190739\n",
       "      alt_offset = 282.0\n",
       "      row_scale = 674.5\n",
       "      col_scale = 1599.5\n",
       "      lat_scale = 0.00966834\n",
       "      lon_scale = 0.01795619\n",
       "      alt_scale = 74.0"
      ]
     },
     "execution_count": 10,
     "metadata": {},
     "output_type": "execute_result"
    }
   ],
   "source": [
    "rpc_f = RPCModel(triplets['1Z']['d1'][10].replace(\".tif\", \"_rpc.txt\"))\n",
    "rpc_f"
   ]
  },
  {
   "cell_type": "code",
   "execution_count": 41,
   "metadata": {
    "scrolled": false
   },
   "outputs": [
    {
     "name": "stderr",
     "output_type": "stream",
     "text": [
      "100%|██████████| 21/21 [00:02<00:00, 10.08it/s]\n"
     ]
    },
    {
     "data": {
      "application/vnd.jupyter.widget-view+json": {
       "model_id": "bbed36738a914ab2b125251441acc51b",
       "version_major": 2,
       "version_minor": 0
      },
      "text/html": [
       "<p>Failed to display Jupyter Widget of type <code>Map</code>.</p>\n",
       "<p>\n",
       "  If you're reading this message in the Jupyter Notebook or JupyterLab Notebook, it may mean\n",
       "  that the widgets JavaScript is still loading. If this message persists, it\n",
       "  likely means that the widgets JavaScript library is either not installed or\n",
       "  not enabled. See the <a href=\"https://ipywidgets.readthedocs.io/en/stable/user_install.html\">Jupyter\n",
       "  Widgets Documentation</a> for setup instructions.\n",
       "</p>\n",
       "<p>\n",
       "  If you're reading this message in another frontend (for example, a static\n",
       "  rendering on GitHub or <a href=\"https://nbviewer.jupyter.org/\">NBViewer</a>),\n",
       "  it may mean that your frontend doesn't currently support widgets.\n",
       "</p>\n"
      ],
      "text/plain": [
       "Map(basemap={'url': 'https://{s}.tile.openstreetmap.org/{z}/{x}/{y}.png', 'max_zoom': 19, 'attribution': 'Map data (c) <a href=\"https://openstreetmap.org\">OpenStreetMap</a> contributors'}, center=[36.0922134930637, -96.7753867740955], controls=(DrawControl(circle={'shapeOptions': {'color': '#0000FF'}}, layer=FeatureGroup(), polygon={'shapeOptions': {'color': '#0000FF'}}, polyline={'shapeOptions': {'color': '#0000FF'}}, rectangle={'shapeOptions': {'color': '#0000FF'}}),), layers=(TileLayer(base=True, max_zoom=19, min_zoom=1, options=['attribution', 'detect_retina', 'max_zoom', 'min_zoom', 'tile_size']), GeoJSON(data={'type': 'Polygon', 'coordinates': [[[-96.7753867740955, 36.0922134930637], [-96.741631380173, 36.0934777908426], [-96.7412157974791, 36.0834523542025], [-96.7749630970429, 36.0821627030972]]]}), GeoJSON(data={'type': 'Polygon', 'coordinates': [[[-96.7747184246331, 36.0833965048915], [-96.7410184918645, 36.0845911607923], [-96.7406034733328, 36.0745752808472], [-96.7742950024563, 36.0733553898033]]]}), GeoJSON(data={'type': 'Polygon', 'coordinates': [[[-96.7742438500235, 36.0745902181816], [-96.7405973844632, 36.0757155520438], [-96.7401830061956, 36.0657085932379], [-96.7738207584982, 36.0645581366946]]]}), GeoJSON(data={'type': 'Polygon', 'coordinates': [[[-96.7736978730073, 36.0661862417086], [-96.7401042602394, 36.0672422916167], [-96.7396900789725, 36.0572438658106], [-96.773274661379, 36.0561628036363]]]}), GeoJSON(data={'type': 'Polygon', 'coordinates': [[[-96.7730824567268, 36.0571075702518], [-96.7395412885412, 36.0580958322822], [-96.7391277838864, 36.0481054537106], [-96.7726596168236, 36.0470922862824]]]}), GeoJSON(data={'type': 'Polygon', 'coordinates': [[[-96.7724574480455, 36.0484056960278], [-96.738966016171, 36.0493292791584], [-96.7385530539498, 36.0393461859494], [-96.7720348569702, 36.0383977974126]]]}), GeoJSON(data={'type': 'Polygon', 'coordinates': [[[-96.7718823177173, 36.0397586100878], [-96.7384395060662, 36.040617964982], [-96.7380269598299, 36.0306416946574], [-96.7714598475651, 36.0297576308257]]]}), GeoJSON(data={'type': 'Polygon', 'coordinates': [[[-96.7713032410236, 36.030886483387], [-96.7379099293849, 36.0316790270764], [-96.7374978639347, 36.0217093666384], [-96.7708809435692, 36.0208922108984]]]}), GeoJSON(data={'type': 'Polygon', 'coordinates': [[[-96.7707033099282, 36.0221266308393], [-96.7373586871478, 36.0228529934027], [-96.7369467885878, 36.0128894802725], [-96.7702808682482, 36.0121385996264]]]}), GeoJSON(data={'type': 'Polygon', 'coordinates': [[[-96.7701370762108, 36.0133376281965], [-96.7368400374386, 36.0139980611318], [-96.7364284426778, 36.0040401648595], [-96.7697146283437, 36.0033553040259]]]}), GeoJSON(data={'type': 'Polygon', 'coordinates': [[[-96.7694342153465, 36.0044546172691], [-96.7361845851824, 36.0050494575385], [-96.7357734842633, 35.9950967867112], [-96.7690119533331, 35.9944776068343]]]}), GeoJSON(data={'type': 'Polygon', 'coordinates': [[[-96.7689110826608, 35.9959525528874], [-96.735705356994, 35.9964849153712], [-96.7352945350557, 35.9865366753192], [-96.7684888031072, 35.9859800534683]]]}), GeoJSON(data={'type': 'Polygon', 'coordinates': [[[-96.7682988057881, 35.9874323368854], [-96.7351366047472, 35.9879025454462], [-96.7347261123932, 35.9779583558561], [-96.7678765592821, 35.9774639661126]]]}), GeoJSON(data={'type': 'Polygon', 'coordinates': [[[-96.7677857772144, 35.9789197628458], [-96.7346657343053, 35.9793284170317], [-96.7342554108159, 35.9693877613578], [-96.7673634018899, 35.96895500029]]]}), GeoJSON(data={'type': 'Polygon', 'coordinates': [[[-96.7672279814459, 35.9704459678083], [-96.7341494675417, 35.9707932862571], [-96.7337393289996, 35.960855717559], [-96.7668054930942, 35.9604843639786]]]}), GeoJSON(data={'type': 'Polygon', 'coordinates': [[[-96.7666928594023, 35.9620155232753], [-96.7336548860489, 35.9623022442858], [-96.7332446303422, 35.9523672960884], [-96.7662699537725, 35.9520566087872]]]}), GeoJSON(data={'type': 'Polygon', 'coordinates': [[[-96.7662191185743, 35.953539617459], [-96.7332205304818, 35.9537655908771], [-96.7328105129752, 35.9438327411179], [-96.7657961529628, 35.9435828663299]]]}), GeoJSON(data={'type': 'Polygon', 'coordinates': [[[-96.7655959886367, 35.9449351958837], [-96.7326367894724, 35.9451008403285], [-96.7322271791657, 35.9351697675797], [-96.7651731354141, 35.9349802854141]]]}), GeoJSON(data={'type': 'Polygon', 'coordinates': [[[-96.7654455408607, 35.9387008132239], [-96.7325208604343, 35.9388028395575], [-96.7321100048388, 35.9288722388012], [-96.7650211038551, 35.9287464292062]]]}), GeoJSON(data={'type': 'Polygon', 'coordinates': [[[-96.7647098639518, 35.9288998159085], [-96.7318242633507, 35.9289446429611], [-96.7314142575418, 35.9190152081521], [-96.7642860011407, 35.9189466578436]]]}), GeoJSON(data={'type': 'Polygon', 'coordinates': [[[-96.7638599716655, 35.9198176699284], [-96.731011654283, 35.9198068505485], [-96.7306025789277, 35.9098781654253], [-96.7634367705679, 35.9098653177475]]]})), layout=Layout(height='500px', width='100%'), options=['attribution_control', 'basemap', 'bounce_at_zoom_limits', 'box_zoom', 'center', 'close_popup_on_click', 'double_click_zoom', 'dragging', 'inertia', 'inertia_deceleration', 'inertia_max_speed', 'keyboard', 'keyboard_pan_offset', 'keyboard_zoom_offset', 'max_zoom', 'min_zoom', 'scroll_wheel_zoom', 'tap', 'tap_tolerance', 'touch_zoom', 'world_copy_jump', 'zoom', 'zoom_animation_threshold', 'zoom_control', 'zoom_start'], scroll_wheel_zoom=True, zoom=13)"
      ]
     },
     "metadata": {},
     "output_type": "display_data"
    }
   ],
   "source": [
    "geolocalisation(triplets['8Z']['d2']);"
   ]
  },
  {
   "cell_type": "markdown",
   "metadata": {},
   "source": [
    "## Gdalwarp"
   ]
  },
  {
   "cell_type": "code",
   "execution_count": 27,
   "metadata": {},
   "outputs": [
    {
     "data": {
      "text/plain": [
       "{1: '../data/s03_20161003T161231Z/panchromatic/s03_20161003T161231Z_pan_d1_0001.tif',\n",
       " 2: '../data/s03_20161003T161231Z/panchromatic/s03_20161003T161231Z_pan_d1_0002.tif',\n",
       " 3: '../data/s03_20161003T161231Z/panchromatic/s03_20161003T161231Z_pan_d1_0003.tif',\n",
       " 4: '../data/s03_20161003T161231Z/panchromatic/s03_20161003T161231Z_pan_d1_0004.tif',\n",
       " 5: '../data/s03_20161003T161231Z/panchromatic/s03_20161003T161231Z_pan_d1_0005.tif',\n",
       " 6: '../data/s03_20161003T161231Z/panchromatic/s03_20161003T161231Z_pan_d1_0006.tif',\n",
       " 7: '../data/s03_20161003T161231Z/panchromatic/s03_20161003T161231Z_pan_d1_0007.tif',\n",
       " 8: '../data/s03_20161003T161231Z/panchromatic/s03_20161003T161231Z_pan_d1_0008.tif',\n",
       " 9: '../data/s03_20161003T161231Z/panchromatic/s03_20161003T161231Z_pan_d1_0009.tif',\n",
       " 10: '../data/s03_20161003T161231Z/panchromatic/s03_20161003T161231Z_pan_d1_0010.tif',\n",
       " 11: '../data/s03_20161003T161231Z/panchromatic/s03_20161003T161231Z_pan_d1_0011.tif',\n",
       " 12: '../data/s03_20161003T161231Z/panchromatic/s03_20161003T161231Z_pan_d1_0012.tif',\n",
       " 13: '../data/s03_20161003T161231Z/panchromatic/s03_20161003T161231Z_pan_d1_0013.tif',\n",
       " 14: '../data/s03_20161003T161231Z/panchromatic/s03_20161003T161231Z_pan_d1_0014.tif',\n",
       " 15: '../data/s03_20161003T161231Z/panchromatic/s03_20161003T161231Z_pan_d1_0015.tif',\n",
       " 16: '../data/s03_20161003T161231Z/panchromatic/s03_20161003T161231Z_pan_d1_0016.tif',\n",
       " 17: '../data/s03_20161003T161231Z/panchromatic/s03_20161003T161231Z_pan_d1_0017.tif',\n",
       " 18: '../data/s03_20161003T161231Z/panchromatic/s03_20161003T161231Z_pan_d1_0018.tif'}"
      ]
     },
     "execution_count": 27,
     "metadata": {},
     "output_type": "execute_result"
    }
   ],
   "source": [
    "triplets['1Z']['d1']"
   ]
  },
  {
   "cell_type": "code",
   "execution_count": 31,
   "metadata": {},
   "outputs": [
    {
     "name": "stderr",
     "output_type": "stream",
     "text": [
      "100%|██████████| 18/18 [00:01<00:00, 10.27it/s]\n"
     ]
    },
    {
     "data": {
      "application/vnd.jupyter.widget-view+json": {
       "model_id": "f379c1b919a748c0a21d6d004333d696",
       "version_major": 2,
       "version_minor": 0
      },
      "text/html": [
       "<p>Failed to display Jupyter Widget of type <code>Map</code>.</p>\n",
       "<p>\n",
       "  If you're reading this message in the Jupyter Notebook or JupyterLab Notebook, it may mean\n",
       "  that the widgets JavaScript is still loading. If this message persists, it\n",
       "  likely means that the widgets JavaScript library is either not installed or\n",
       "  not enabled. See the <a href=\"https://ipywidgets.readthedocs.io/en/stable/user_install.html\">Jupyter\n",
       "  Widgets Documentation</a> for setup instructions.\n",
       "</p>\n",
       "<p>\n",
       "  If you're reading this message in another frontend (for example, a static\n",
       "  rendering on GitHub or <a href=\"https://nbviewer.jupyter.org/\">NBViewer</a>),\n",
       "  it may mean that your frontend doesn't currently support widgets.\n",
       "</p>\n"
      ],
      "text/plain": [
       "Map(basemap={'url': 'https://{s}.tile.openstreetmap.org/{z}/{x}/{y}.png', 'max_zoom': 19, 'attribution': 'Map data (c) <a href=\"https://openstreetmap.org\">OpenStreetMap</a> contributors'}, center=[36.1075931445452, -96.7811354160731], controls=(DrawControl(circle={'shapeOptions': {'color': '#0000FF'}}, layer=FeatureGroup(), polygon={'shapeOptions': {'color': '#0000FF'}}, polyline={'shapeOptions': {'color': '#0000FF'}}, rectangle={'shapeOptions': {'color': '#0000FF'}}),), layers=(TileLayer(base=True, max_zoom=19, min_zoom=1, options=['attribution', 'detect_retina', 'max_zoom', 'min_zoom', 'tile_size']), GeoJSON(data={'type': 'Polygon', 'coordinates': [[[-96.7811354160731, 36.1075931445452], [-96.7386751511896, 36.1195815632118], [-96.7380768798033, 36.1061109605398], [-96.7805680115124, 36.0940606921384]]]}), GeoJSON(data={'type': 'Polygon', 'coordinates': [[[-96.7803800778979, 36.0958913076648], [-96.7380679719191, 36.1077297017747], [-96.737472847735, 36.0943155236429], [-96.7798153707801, 36.0824160044511]]]}), GeoJSON(data={'type': 'Polygon', 'coordinates': [[[-96.7794574904837, 36.0841966639117], [-96.7372938597934, 36.0958857648881], [-96.7367018169547, 36.0825277705], [-96.7788954173308, 36.0707782625151]]]}), GeoJSON(data={'type': 'Polygon', 'coordinates': [[[-96.7785415822501, 36.0725199766148], [-96.7365256205518, 36.0840608156169], [-96.7359366712575, 36.0707586443588], [-96.777982157464, 36.059158108723]]]}), GeoJSON(data={'type': 'Polygon', 'coordinates': [[[-96.7777402314694, 36.0611711319593], [-96.7358650480087, 36.0725707969166], [-96.7352790508155, 36.0593218526485], [-96.777183334145, 36.0478631635101]]]}), GeoJSON(data={'type': 'Polygon', 'coordinates': [[[-96.7768157999127, 36.0499310256884], [-96.7350817960679, 36.0611900150265], [-96.7344985538539, 36.0479943071792], [-96.7762612315652, 36.0366769631816]]]}), GeoJSON(data={'type': 'Polygon', 'coordinates': [[[-96.7759627570064, 36.0386522384332], [-96.734368573343, 36.0497717833587], [-96.7337881915761, 36.0366287929153], [-96.7754106275121, 36.0254515523292]]]}), GeoJSON(data={'type': 'Polygon', 'coordinates': [[[-96.7751753309678, 36.0273158691935], [-96.7337195730612, 36.0382973072746], [-96.7331421312088, 36.0252064875434], [-96.7746257237128, 36.0141680027699]]]}), GeoJSON(data={'type': 'Polygon', 'coordinates': [[[-96.7743125465222, 36.0158810291237], [-96.7329946604432, 36.0267256280866], [-96.7324201722756, 36.0136864530595], [-96.7737654789879, 36.002785447836]]]}), GeoJSON(data={'type': 'Polygon', 'coordinates': [[[-96.7736140023545, 36.0043986778438], [-96.7324320535022, 36.0151082511511], [-96.731860427593, 36.0021201884476], [-96.7730693872147, 35.9913548374198]]]}), GeoJSON(data={'type': 'Polygon', 'coordinates': [[[-96.7730109584806, 35.9928480947916], [-96.7319633495528, 36.0034239397627], [-96.7313947378514, 35.9904863868674], [-96.7724689521739, 35.979855382399]]]}), GeoJSON(data={'type': 'Polygon', 'coordinates': [[[-96.7722609640678, 35.9814447576355], [-96.7313483038018, 35.9918871853878], [-96.7307824749709, 35.9790002307967], [-96.7717213329782, 35.9685032598927]]]}), GeoJSON(data={'type': 'Polygon', 'coordinates': [[[-96.7716444256353, 35.9699676619476], [-96.7308648980455, 35.9802781450087], [-96.7303019531661, 35.9674411827913], [-96.7711072755453, 35.9570767612908]]]}), GeoJSON(data={'type': 'Polygon', 'coordinates': [[[-96.7708239812589, 35.9586724692578], [-96.7301786233504, 35.9688510713742], [-96.7296183054965, 35.9560642888846], [-96.7702890518127, 35.9458323529218]]]}), GeoJSON(data={'type': 'Polygon', 'coordinates': [[[-96.7700985061297, 35.9473131527359], [-96.7295857572511, 35.9573611178755], [-96.7290282198048, 35.9446239171179], [-96.7695659562457, 35.9345232124159]]]}), GeoJSON(data={'type': 'Polygon', 'coordinates': [[[-96.7693334017813, 35.9363565011599], [-96.728948036008, 35.9462795429615], [-96.7283931407909, 35.933589772878], [-96.768803109538, 35.9236145578182]]]}), GeoJSON(data={'type': 'Polygon', 'coordinates': [[[-96.7685946964141, 35.9253835650191], [-96.7283357488533, 35.9351826985514], [-96.7277835129978, 35.9225399530598], [-96.7680666820293, 35.9126892051109]]]}), GeoJSON(data={'type': 'Polygon', 'coordinates': [[[-96.7679831342455, 35.9143550718577], [-96.7278489318202, 35.9240315023618], [-96.7272994919373, 35.91143522106], [-96.7674575382686, 35.9017077249817]]]})), layout=Layout(height='500px', width='100%'), options=['attribution_control', 'basemap', 'bounce_at_zoom_limits', 'box_zoom', 'center', 'close_popup_on_click', 'double_click_zoom', 'dragging', 'inertia', 'inertia_deceleration', 'inertia_max_speed', 'keyboard', 'keyboard_pan_offset', 'keyboard_zoom_offset', 'max_zoom', 'min_zoom', 'scroll_wheel_zoom', 'tap', 'tap_tolerance', 'touch_zoom', 'world_copy_jump', 'zoom', 'zoom_animation_threshold', 'zoom_control', 'zoom_start'], scroll_wheel_zoom=True, zoom=13)"
      ]
     },
     "metadata": {},
     "output_type": "display_data"
    }
   ],
   "source": [
    "imgs = list(triplets['7Z']['d2'].values())\n",
    "imgs.sort()\n",
    "imgs\n",
    "\n",
    "footprint = []\n",
    "for i in tqdm(imgs):\n",
    "    footprint.append(get_image_longlat_polygon(i))\n",
    "    \n",
    "m = clickablemap()\n",
    "\n",
    "for i in range(len(imgs)):\n",
    "    m.add_GeoJSON(footprint[i])\n",
    "\n",
    "m.center = footprint[0]['coordinates'][0][0][::-1]\n",
    "display(m)"
   ]
  },
  {
   "cell_type": "code",
   "execution_count": 33,
   "metadata": {},
   "outputs": [],
   "source": [
    "import ipytools"
   ]
  },
  {
   "cell_type": "code",
   "execution_count": 36,
   "metadata": {},
   "outputs": [
    {
     "name": "stdout",
     "output_type": "stream",
     "text": [
      "RUN: gdalwarp -overwrite  -of GTiff -t_srs \"+proj=longlat +datum=WGS84\" ../data/s03_20161003T161107Z/panchromatic/s03_20161003T161107Z_pan_d2_0001.tif tmp/sarimage_longlat.tif\n"
     ]
    },
    {
     "data": {
      "application/vnd.jupyter.widget-view+json": {
       "model_id": "1359c0ee9e5a4ae4aa94931371db3222",
       "version_major": 2,
       "version_minor": 0
      },
      "text/html": [
       "<p>Failed to display Jupyter Widget of type <code>VBox</code>.</p>\n",
       "<p>\n",
       "  If you're reading this message in the Jupyter Notebook or JupyterLab Notebook, it may mean\n",
       "  that the widgets JavaScript is still loading. If this message persists, it\n",
       "  likely means that the widgets JavaScript library is either not installed or\n",
       "  not enabled. See the <a href=\"https://ipywidgets.readthedocs.io/en/stable/user_install.html\">Jupyter\n",
       "  Widgets Documentation</a> for setup instructions.\n",
       "</p>\n",
       "<p>\n",
       "  If you're reading this message in another frontend (for example, a static\n",
       "  rendering on GitHub or <a href=\"https://nbviewer.jupyter.org/\">NBViewer</a>),\n",
       "  it may mean that your frontend doesn't currently support widgets.\n",
       "</p>\n"
      ],
      "text/plain": [
       "VBox(children=(HBox(children=(Button(description='hide', layout=Layout(width='auto'), style=ButtonStyle()), Button(description='hidePoly', layout=Layout(width='auto'), style=ButtonStyle()), Label(value=''))), Map(basemap={'url': 'https://{s}.tile.openstreetmap.org/{z}/{x}/{y}.png', 'max_zoom': 19, 'attribution': 'Map data (c) <a href=\"https://openstreetmap.org\">OpenStreetMap</a> contributors'}, center=[36.1195815632118, -96.7811354160731], layers=(TileLayer(base=True, max_zoom=19, min_zoom=1, options=['attribution', 'detect_retina', 'max_zoom', 'min_zoom', 'tile_size']), Polygon(fill_opacity=0.25, locations=[[36.1195815632118, -96.7811354160731], [36.1195815632118, -96.7380737266471], [36.0940547922754, -96.7380737266471], [36.0940547922754, -96.7811354160731]], options=['class_name', 'clickable', 'color', 'dash_array', 'fill', 'fill_color', 'fill_opacity', 'line_cap', 'line_join', 'no_clip', 'opacity', 'pointer_events', 'smooth_factor', 'stroke', 'weight'], weight=2), ImageOverlay(bounds=[[36.1195815632118, -96.7380737266471], [36.0940547922754, -96.7811354160731]], options=['attribution'], url='tmp/sarimage_longlat.png?09255')), layout=Layout(height='500px', width='100%'), options=['attribution_control', 'basemap', 'bounce_at_zoom_limits', 'box_zoom', 'center', 'close_popup_on_click', 'double_click_zoom', 'dragging', 'inertia', 'inertia_deceleration', 'inertia_max_speed', 'keyboard', 'keyboard_pan_offset', 'keyboard_zoom_offset', 'max_zoom', 'min_zoom', 'scroll_wheel_zoom', 'tap', 'tap_tolerance', 'touch_zoom', 'world_copy_jump', 'zoom', 'zoom_animation_threshold', 'zoom_control', 'zoom_start'], scroll_wheel_zoom=True, zoom=13)))"
      ]
     },
     "metadata": {},
     "output_type": "display_data"
    }
   ],
   "source": [
    "img = imgs[0]\n",
    "\n",
    "# Reproject the image in longlat (one GeoTIFF and one PNG)\n",
    "ipytools.gdal_resample_image_to_longlat(img,\n",
    "                                        'tmp/sarimage_longlat.tif')\n",
    "\n",
    "# Extract the new image footprint from the GeoTIFF\n",
    "footprint2 = get_image_longlat_polygon('tmp/sarimage_longlat.tif')\n",
    "\n",
    "# Convert TIFF to 8-bits and write a PNG\n",
    "data =  readGTIFF('tmp/sarimage_longlat.tif')\n",
    "writeGTIFF( display_RSO( data , plot=False), 'tmp/sarimage_longlat.png' )\n",
    "\n",
    "# Display the reprojected PNG overlaid on a map at the coordinates of the footprint\n",
    "mo = ipytools.overlaymap(footprint2, 'tmp/sarimage_longlat.png' , zoom = 13)\n",
    "display(mo)"
   ]
  },
  {
   "cell_type": "code",
   "execution_count": 37,
   "metadata": {},
   "outputs": [
    {
     "data": {
      "text/plain": [
       "{'coordinates': [[[-96.7811354160731, 36.1195815632118],\n",
       "   [-96.7380737266471, 36.1195815632118],\n",
       "   [-96.7380737266471, 36.0940547922754],\n",
       "   [-96.7811354160731, 36.0940547922754]]],\n",
       " 'type': 'Polygon'}"
      ]
     },
     "execution_count": 37,
     "metadata": {},
     "output_type": "execute_result"
    }
   ],
   "source": [
    "footprint2"
   ]
  },
  {
   "cell_type": "code",
   "execution_count": 40,
   "metadata": {},
   "outputs": [
    {
     "data": {
      "application/vnd.jupyter.widget-view+json": {
       "model_id": "1f9277c881dd4cb9b435978e563685f9",
       "version_major": 2,
       "version_minor": 0
      },
      "text/html": [
       "<p>Failed to display Jupyter Widget of type <code>Map</code>.</p>\n",
       "<p>\n",
       "  If you're reading this message in the Jupyter Notebook or JupyterLab Notebook, it may mean\n",
       "  that the widgets JavaScript is still loading. If this message persists, it\n",
       "  likely means that the widgets JavaScript library is either not installed or\n",
       "  not enabled. See the <a href=\"https://ipywidgets.readthedocs.io/en/stable/user_install.html\">Jupyter\n",
       "  Widgets Documentation</a> for setup instructions.\n",
       "</p>\n",
       "<p>\n",
       "  If you're reading this message in another frontend (for example, a static\n",
       "  rendering on GitHub or <a href=\"https://nbviewer.jupyter.org/\">NBViewer</a>),\n",
       "  it may mean that your frontend doesn't currently support widgets.\n",
       "</p>\n"
      ],
      "text/plain": [
       "Map(basemap={'url': 'https://{s}.tile.openstreetmap.org/{z}/{x}/{y}.png', 'max_zoom': 19, 'attribution': 'Map data (c) <a href=\"https://openstreetmap.org\">OpenStreetMap</a> contributors'}, center=[36.1195815632118, -96.7811354160731], controls=(DrawControl(circle={'shapeOptions': {'color': '#0000FF'}}, layer=FeatureGroup(), polygon={'shapeOptions': {'color': '#0000FF'}}, polyline={'shapeOptions': {'color': '#0000FF'}}, rectangle={'shapeOptions': {'color': '#0000FF'}}),), layers=(TileLayer(base=True, max_zoom=19, min_zoom=1, options=['attribution', 'detect_retina', 'max_zoom', 'min_zoom', 'tile_size']), GeoJSON(data={'type': 'Polygon', 'coordinates': [[[-96.7811354160731, 36.1195815632118], [-96.7380737266471, 36.1195815632118], [-96.7380737266471, 36.0940547922754], [-96.7811354160731, 36.0940547922754]]]})), layout=Layout(height='500px', width='100%'), options=['attribution_control', 'basemap', 'bounce_at_zoom_limits', 'box_zoom', 'center', 'close_popup_on_click', 'double_click_zoom', 'dragging', 'inertia', 'inertia_deceleration', 'inertia_max_speed', 'keyboard', 'keyboard_pan_offset', 'keyboard_zoom_offset', 'max_zoom', 'min_zoom', 'scroll_wheel_zoom', 'tap', 'tap_tolerance', 'touch_zoom', 'world_copy_jump', 'zoom', 'zoom_animation_threshold', 'zoom_control', 'zoom_start'], scroll_wheel_zoom=True, zoom=13)"
      ]
     },
     "metadata": {},
     "output_type": "display_data"
    }
   ],
   "source": [
    "m = clickablemap()\n",
    "m.add_GeoJSON(footprint2)\n",
    "\n",
    "# m.center = footprint[0]['coordinates'][0][0][::-1]\n",
    "m.center = footprint2['coordinates'][0][0][::-1]\n",
    "display(m)"
   ]
  },
  {
   "cell_type": "code",
   "execution_count": 42,
   "metadata": {},
   "outputs": [
    {
     "name": "stderr",
     "output_type": "stream",
     "text": [
      "100%|██████████| 18/18 [00:01<00:00, 10.08it/s]\n"
     ]
    },
    {
     "data": {
      "application/vnd.jupyter.widget-view+json": {
       "model_id": "f9cf193b2a1c49a0980f363e312ca949",
       "version_major": 2,
       "version_minor": 0
      },
      "text/html": [
       "<p>Failed to display Jupyter Widget of type <code>Map</code>.</p>\n",
       "<p>\n",
       "  If you're reading this message in the Jupyter Notebook or JupyterLab Notebook, it may mean\n",
       "  that the widgets JavaScript is still loading. If this message persists, it\n",
       "  likely means that the widgets JavaScript library is either not installed or\n",
       "  not enabled. See the <a href=\"https://ipywidgets.readthedocs.io/en/stable/user_install.html\">Jupyter\n",
       "  Widgets Documentation</a> for setup instructions.\n",
       "</p>\n",
       "<p>\n",
       "  If you're reading this message in another frontend (for example, a static\n",
       "  rendering on GitHub or <a href=\"https://nbviewer.jupyter.org/\">NBViewer</a>),\n",
       "  it may mean that your frontend doesn't currently support widgets.\n",
       "</p>\n"
      ],
      "text/plain": [
       "Map(basemap={'url': 'https://{s}.tile.openstreetmap.org/{z}/{x}/{y}.png', 'max_zoom': 19, 'attribution': 'Map data (c) <a href=\"https://openstreetmap.org\">OpenStreetMap</a> contributors'}, center=[36.1075931445452, -96.7811354160731], controls=(DrawControl(circle={'shapeOptions': {'color': '#0000FF'}}, layer=FeatureGroup(), polygon={'shapeOptions': {'color': '#0000FF'}}, polyline={'shapeOptions': {'color': '#0000FF'}}, rectangle={'shapeOptions': {'color': '#0000FF'}}),), layers=(TileLayer(base=True, max_zoom=19, min_zoom=1, options=['attribution', 'detect_retina', 'max_zoom', 'min_zoom', 'tile_size']), GeoJSON(data={'type': 'Polygon', 'coordinates': [[[-96.7811354160731, 36.1075931445452], [-96.7386751511896, 36.1195815632118], [-96.7380768798033, 36.1061109605398], [-96.7805680115124, 36.0940606921384]]]}), GeoJSON(data={'type': 'Polygon', 'coordinates': [[[-96.7803800778979, 36.0958913076648], [-96.7380679719191, 36.1077297017747], [-96.737472847735, 36.0943155236429], [-96.7798153707801, 36.0824160044511]]]}), GeoJSON(data={'type': 'Polygon', 'coordinates': [[[-96.7794574904837, 36.0841966639117], [-96.7372938597934, 36.0958857648881], [-96.7367018169547, 36.0825277705], [-96.7788954173308, 36.0707782625151]]]}), GeoJSON(data={'type': 'Polygon', 'coordinates': [[[-96.7785415822501, 36.0725199766148], [-96.7365256205518, 36.0840608156169], [-96.7359366712575, 36.0707586443588], [-96.777982157464, 36.059158108723]]]}), GeoJSON(data={'type': 'Polygon', 'coordinates': [[[-96.7777402314694, 36.0611711319593], [-96.7358650480087, 36.0725707969166], [-96.7352790508155, 36.0593218526485], [-96.777183334145, 36.0478631635101]]]}), GeoJSON(data={'type': 'Polygon', 'coordinates': [[[-96.7768157999127, 36.0499310256884], [-96.7350817960679, 36.0611900150265], [-96.7344985538539, 36.0479943071792], [-96.7762612315652, 36.0366769631816]]]}), GeoJSON(data={'type': 'Polygon', 'coordinates': [[[-96.7759627570064, 36.0386522384332], [-96.734368573343, 36.0497717833587], [-96.7337881915761, 36.0366287929153], [-96.7754106275121, 36.0254515523292]]]}), GeoJSON(data={'type': 'Polygon', 'coordinates': [[[-96.7751753309678, 36.0273158691935], [-96.7337195730612, 36.0382973072746], [-96.7331421312088, 36.0252064875434], [-96.7746257237128, 36.0141680027699]]]}), GeoJSON(data={'type': 'Polygon', 'coordinates': [[[-96.7743125465222, 36.0158810291237], [-96.7329946604432, 36.0267256280866], [-96.7324201722756, 36.0136864530595], [-96.7737654789879, 36.002785447836]]]}), GeoJSON(data={'type': 'Polygon', 'coordinates': [[[-96.7736140023545, 36.0043986778438], [-96.7324320535022, 36.0151082511511], [-96.731860427593, 36.0021201884476], [-96.7730693872147, 35.9913548374198]]]}), GeoJSON(data={'type': 'Polygon', 'coordinates': [[[-96.7730109584806, 35.9928480947916], [-96.7319633495528, 36.0034239397627], [-96.7313947378514, 35.9904863868674], [-96.7724689521739, 35.979855382399]]]}), GeoJSON(data={'type': 'Polygon', 'coordinates': [[[-96.7722609640678, 35.9814447576355], [-96.7313483038018, 35.9918871853878], [-96.7307824749709, 35.9790002307967], [-96.7717213329782, 35.9685032598927]]]}), GeoJSON(data={'type': 'Polygon', 'coordinates': [[[-96.7716444256353, 35.9699676619476], [-96.7308648980455, 35.9802781450087], [-96.7303019531661, 35.9674411827913], [-96.7711072755453, 35.9570767612908]]]}), GeoJSON(data={'type': 'Polygon', 'coordinates': [[[-96.7708239812589, 35.9586724692578], [-96.7301786233504, 35.9688510713742], [-96.7296183054965, 35.9560642888846], [-96.7702890518127, 35.9458323529218]]]}), GeoJSON(data={'type': 'Polygon', 'coordinates': [[[-96.7700985061297, 35.9473131527359], [-96.7295857572511, 35.9573611178755], [-96.7290282198048, 35.9446239171179], [-96.7695659562457, 35.9345232124159]]]}), GeoJSON(data={'type': 'Polygon', 'coordinates': [[[-96.7693334017813, 35.9363565011599], [-96.728948036008, 35.9462795429615], [-96.7283931407909, 35.933589772878], [-96.768803109538, 35.9236145578182]]]}), GeoJSON(data={'type': 'Polygon', 'coordinates': [[[-96.7685946964141, 35.9253835650191], [-96.7283357488533, 35.9351826985514], [-96.7277835129978, 35.9225399530598], [-96.7680666820293, 35.9126892051109]]]}), GeoJSON(data={'type': 'Polygon', 'coordinates': [[[-96.7679831342455, 35.9143550718577], [-96.7278489318202, 35.9240315023618], [-96.7272994919373, 35.91143522106], [-96.7674575382686, 35.9017077249817]]]})), layout=Layout(height='500px', width='100%'), options=['attribution_control', 'basemap', 'bounce_at_zoom_limits', 'box_zoom', 'center', 'close_popup_on_click', 'double_click_zoom', 'dragging', 'inertia', 'inertia_deceleration', 'inertia_max_speed', 'keyboard', 'keyboard_pan_offset', 'keyboard_zoom_offset', 'max_zoom', 'min_zoom', 'scroll_wheel_zoom', 'tap', 'tap_tolerance', 'touch_zoom', 'world_copy_jump', 'zoom', 'zoom_animation_threshold', 'zoom_control', 'zoom_start'], scroll_wheel_zoom=True, zoom=13)"
      ]
     },
     "metadata": {},
     "output_type": "display_data"
    }
   ],
   "source": [
    "footprints = geolocalisation(triplets['7Z']['d2'])"
   ]
  },
  {
   "cell_type": "code",
   "execution_count": 45,
   "metadata": {},
   "outputs": [
    {
     "data": {
      "text/plain": [
       "{'coordinates': [[[-96.7811354160731, 36.1075931445452],\n",
       "   [-96.7386751511896, 36.1195815632118],\n",
       "   [-96.7380768798033, 36.1061109605398],\n",
       "   [-96.7805680115124, 36.0940606921384]]],\n",
       " 'type': 'Polygon'}"
      ]
     },
     "execution_count": 45,
     "metadata": {},
     "output_type": "execute_result"
    }
   ],
   "source": [
    "footprints[0]"
   ]
  },
  {
   "cell_type": "code",
   "execution_count": 46,
   "metadata": {},
   "outputs": [
    {
     "data": {
      "text/plain": [
       "{'coordinates': [[[-96.7803800778979, 36.0958913076648],\n",
       "   [-96.7380679719191, 36.1077297017747],\n",
       "   [-96.737472847735, 36.0943155236429],\n",
       "   [-96.7798153707801, 36.0824160044511]]],\n",
       " 'type': 'Polygon'}"
      ]
     },
     "execution_count": 46,
     "metadata": {},
     "output_type": "execute_result"
    }
   ],
   "source": [
    "footprint[1]"
   ]
  },
  {
   "cell_type": "code",
   "execution_count": 30,
   "metadata": {},
   "outputs": [],
   "source": [
    "import subprocess\n",
    "def crop_with_gdalwarp(outpath, inpath, geojson_path):\n",
    "    \"\"\"\n",
    "    \"\"\"\n",
    "    cmd = ['gdalwarp', inpath, outpath, '-ot', 'UInt16', '-of', 'GTiff',\n",
    "           '-overwrite', '-crop_to_cutline', '-cutline', geojson_path]\n",
    "    subprocess.check_output(cmd, stderr=subprocess.STDOUT)"
   ]
  },
  {
   "cell_type": "code",
   "execution_count": 44,
   "metadata": {},
   "outputs": [
    {
     "data": {
      "text/plain": [
       "'../data/s03_20161003T161107Z/panchromatic/s03_20161003T161107Z_pan_d2_0002.tif'"
      ]
     },
     "execution_count": 44,
     "metadata": {},
     "output_type": "execute_result"
    }
   ],
   "source": [
    "imgs[1]"
   ]
  },
  {
   "cell_type": "code",
   "execution_count": 53,
   "metadata": {},
   "outputs": [
    {
     "ename": "CalledProcessError",
     "evalue": "Command '['gdalwarp', '../data/s03_20161003T161107Z/panchromatic/s03_20161003T161107Z_pan_d2_0002.tif', 'tmp/test_gdalwarp.tif', '-ot', 'UInt16', '-of', 'GTiff', '-overwrite', '-crop_to_cutline', '-cutline', 'tmp/geoson_path.txt']' returned non-zero exit status 1.",
     "output_type": "error",
     "traceback": [
      "\u001b[0;31m---------------------------------------------------------------------------\u001b[0m",
      "\u001b[0;31mCalledProcessError\u001b[0m                        Traceback (most recent call last)",
      "\u001b[0;32m<ipython-input-53-e9bf524ade51>\u001b[0m in \u001b[0;36m<module>\u001b[0;34m()\u001b[0m\n\u001b[0;32m----> 1\u001b[0;31m \u001b[0mcrop_with_gdalwarp\u001b[0m\u001b[0;34m(\u001b[0m\u001b[0;34m\"tmp/test_gdalwarp.tif\"\u001b[0m\u001b[0;34m,\u001b[0m \u001b[0mimgs\u001b[0m\u001b[0;34m[\u001b[0m\u001b[0;36m1\u001b[0m\u001b[0;34m]\u001b[0m\u001b[0;34m,\u001b[0m \u001b[0;34m'tmp/geoson_path.txt'\u001b[0m\u001b[0;34m)\u001b[0m\u001b[0;34m\u001b[0m\u001b[0m\n\u001b[0m",
      "\u001b[0;32m<ipython-input-30-207f31f4e92e>\u001b[0m in \u001b[0;36mcrop_with_gdalwarp\u001b[0;34m(outpath, inpath, geojson_path)\u001b[0m\n\u001b[1;32m      4\u001b[0m     cmd = ['gdalwarp', inpath, outpath, '-ot', 'UInt16', '-of', 'GTiff',\n\u001b[1;32m      5\u001b[0m            '-overwrite', '-crop_to_cutline', '-cutline', geojson_path]\n\u001b[0;32m----> 6\u001b[0;31m     \u001b[0msubprocess\u001b[0m\u001b[0;34m.\u001b[0m\u001b[0mcheck_output\u001b[0m\u001b[0;34m(\u001b[0m\u001b[0mcmd\u001b[0m\u001b[0;34m,\u001b[0m \u001b[0mstderr\u001b[0m\u001b[0;34m=\u001b[0m\u001b[0msubprocess\u001b[0m\u001b[0;34m.\u001b[0m\u001b[0mSTDOUT\u001b[0m\u001b[0;34m)\u001b[0m\u001b[0;34m\u001b[0m\u001b[0m\n\u001b[0m",
      "\u001b[0;32m~/anaconda3/envs/s2p/lib/python3.6/subprocess.py\u001b[0m in \u001b[0;36mcheck_output\u001b[0;34m(timeout, *popenargs, **kwargs)\u001b[0m\n\u001b[1;32m    334\u001b[0m \u001b[0;34m\u001b[0m\u001b[0m\n\u001b[1;32m    335\u001b[0m     return run(*popenargs, stdout=PIPE, timeout=timeout, check=True,\n\u001b[0;32m--> 336\u001b[0;31m                **kwargs).stdout\n\u001b[0m\u001b[1;32m    337\u001b[0m \u001b[0;34m\u001b[0m\u001b[0m\n\u001b[1;32m    338\u001b[0m \u001b[0;34m\u001b[0m\u001b[0m\n",
      "\u001b[0;32m~/anaconda3/envs/s2p/lib/python3.6/subprocess.py\u001b[0m in \u001b[0;36mrun\u001b[0;34m(input, timeout, check, *popenargs, **kwargs)\u001b[0m\n\u001b[1;32m    416\u001b[0m         \u001b[0;32mif\u001b[0m \u001b[0mcheck\u001b[0m \u001b[0;32mand\u001b[0m \u001b[0mretcode\u001b[0m\u001b[0;34m:\u001b[0m\u001b[0;34m\u001b[0m\u001b[0m\n\u001b[1;32m    417\u001b[0m             raise CalledProcessError(retcode, process.args,\n\u001b[0;32m--> 418\u001b[0;31m                                      output=stdout, stderr=stderr)\n\u001b[0m\u001b[1;32m    419\u001b[0m     \u001b[0;32mreturn\u001b[0m \u001b[0mCompletedProcess\u001b[0m\u001b[0;34m(\u001b[0m\u001b[0mprocess\u001b[0m\u001b[0;34m.\u001b[0m\u001b[0margs\u001b[0m\u001b[0;34m,\u001b[0m \u001b[0mretcode\u001b[0m\u001b[0;34m,\u001b[0m \u001b[0mstdout\u001b[0m\u001b[0;34m,\u001b[0m \u001b[0mstderr\u001b[0m\u001b[0;34m)\u001b[0m\u001b[0;34m\u001b[0m\u001b[0m\n\u001b[1;32m    420\u001b[0m \u001b[0;34m\u001b[0m\u001b[0m\n",
      "\u001b[0;31mCalledProcessError\u001b[0m: Command '['gdalwarp', '../data/s03_20161003T161107Z/panchromatic/s03_20161003T161107Z_pan_d2_0002.tif', 'tmp/test_gdalwarp.tif', '-ot', 'UInt16', '-of', 'GTiff', '-overwrite', '-crop_to_cutline', '-cutline', 'tmp/geoson_path.txt']' returned non-zero exit status 1."
     ]
    }
   ],
   "source": [
    "crop_with_gdalwarp(\"tmp/test_gdalwarp.tif\", imgs[1], 'tmp/geoson_path.txt')"
   ]
  },
  {
   "cell_type": "code",
   "execution_count": 61,
   "metadata": {},
   "outputs": [
    {
     "data": {
      "text/plain": [
       "[[[-96.7811354160731, 36.1075931445452],\n",
       "  [-96.7386751511896, 36.1195815632118],\n",
       "  [-96.7380768798033, 36.1061109605398],\n",
       "  [-96.7805680115124, 36.0940606921384]],\n",
       " [[-96.7811354160731, 36.1075931445452],\n",
       "  [-96.7386751511896, 36.1195815632118],\n",
       "  [-96.7380768798033, 36.1061109605398],\n",
       "  [-96.7805680115124, 36.0940606921384]]]"
      ]
     },
     "execution_count": 61,
     "metadata": {},
     "output_type": "execute_result"
    }
   ],
   "source": [
    "L = footprints[0]['coordinates']\n",
    "L"
   ]
  },
  {
   "cell_type": "code",
   "execution_count": 73,
   "metadata": {},
   "outputs": [
    {
     "data": {
      "text/plain": [
       "[[-96.7811354160731, 36.1075931445452],\n",
       " [-96.7386751511896, 36.1195815632118],\n",
       " [-96.7380768798033, 36.1061109605398],\n",
       " [-96.7805680115124, 36.0940606921384],\n",
       " [-96.7811354160731, 36.1075931445452]]"
      ]
     },
     "execution_count": 73,
     "metadata": {},
     "output_type": "execute_result"
    }
   ],
   "source": [
    "A = [L[0][i] for i in range(4)]\n",
    "A.append(L[0][0])\n",
    "A"
   ]
  },
  {
   "cell_type": "code",
   "execution_count": 78,
   "metadata": {},
   "outputs": [],
   "source": [
    "cpy_geo = footprints[0]\n",
    "cpy_geo['coordinates'] = [A]"
   ]
  },
  {
   "cell_type": "code",
   "execution_count": 79,
   "metadata": {},
   "outputs": [
    {
     "data": {
      "text/plain": [
       "{'coordinates': [[[-96.7811354160731, 36.1075931445452],\n",
       "   [-96.7386751511896, 36.1195815632118],\n",
       "   [-96.7380768798033, 36.1061109605398],\n",
       "   [-96.7805680115124, 36.0940606921384],\n",
       "   [-96.7811354160731, 36.1075931445452]]],\n",
       " 'type': 'Polygon'}"
      ]
     },
     "execution_count": 79,
     "metadata": {},
     "output_type": "execute_result"
    }
   ],
   "source": [
    "cpy_geo"
   ]
  },
  {
   "cell_type": "code",
   "execution_count": 49,
   "metadata": {},
   "outputs": [],
   "source": [
    "import json"
   ]
  },
  {
   "cell_type": "code",
   "execution_count": 80,
   "metadata": {},
   "outputs": [],
   "source": [
    "# ERROR 1: IllegalArgumentException: Points of LinearRing do not form a closed linestring\n",
    "with open('tmp/geoson_path.txt', 'w') as file:\n",
    "    file.write(json.dumps(cpy_geo))"
   ]
  },
  {
   "cell_type": "markdown",
   "metadata": {},
   "source": [
    " gdalwarp ../../data/s03_20161003T161107Z/panchromatic/s03_20161003T161107Z_pan_d2_0002.tif tmp/test_gdalwarp.tif -ot UInt16 -of GTiff -overwrite -crop_to_cutline -cutline geoson_path.txt \n",
    "ERROR 1: Cannot compute bounding box of cutline.\n"
   ]
  },
  {
   "cell_type": "code",
   "execution_count": null,
   "metadata": {},
   "outputs": [],
   "source": []
  }
 ],
 "metadata": {
  "kernelspec": {
   "display_name": "Python [conda env:s2p]",
   "language": "python",
   "name": "conda-env-s2p-py"
  },
  "language_info": {
   "codemirror_mode": {
    "name": "ipython",
    "version": 3
   },
   "file_extension": ".py",
   "mimetype": "text/x-python",
   "name": "python",
   "nbconvert_exporter": "python",
   "pygments_lexer": "ipython3",
   "version": "3.6.4"
  }
 },
 "nbformat": 4,
 "nbformat_minor": 2
}
